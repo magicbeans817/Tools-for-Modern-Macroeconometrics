{
 "cells": [
  {
   "cell_type": "markdown",
   "metadata": {},
   "source": [
    "# Tools for modern macroeconometrics\n",
    "\n",
    "## Seminar 2a\n",
    "\n",
    "## Dickey-Fuller and Augmented Dickey-Fuller tests"
   ]
  },
  {
   "cell_type": "markdown",
   "metadata": {},
   "source": [
    "## Dickey-Fuller test\n",
    "\n",
    "The Dickey-Fuller test is testing if  $\\phi = 1$  in this model of the data:\n",
    "\n",
    "\\begin{equation} \n",
    "y_t = \\alpha + \\beta t  +  \\phi y_{t-1}  + \\epsilon_t\n",
    "\\end{equation}\n",
    "\n",
    "which is written as\n",
    "\n",
    "\\begin{equation} \n",
    "\\Delta y_t = y_t - y_{t-1} =  \\alpha + \\beta t  +  \\gamma y_{t-1}  + \\epsilon_t\n",
    "\\end{equation}\n",
    "\n",
    "where $y_t$ is your data. It is written this way so we can do a linear regression of $\\Delta y_t$ against t and $y_{t-1}$ and test if $\\gamma$ is different from 0. If $\\gamma = 0$,  then we have a random walk process.  If not and $ -1 < 1 + \\gamma < 1$, then we have a stationary process."
   ]
  },
  {
   "cell_type": "markdown",
   "metadata": {},
   "source": [
    "## Augmented Dickey-Fuller test\n",
    "\n",
    "\n",
    "The Augmented Dickey-Fuller test allows for higher-order autoregressive processes by including $ \\Delta y_{t-p} $ in the model. But our test is still if $\\gamma= 0$\n",
    "\n",
    "\\begin{equation} \n",
    "\\Delta y_t =  \\alpha + \\beta t  +  \\gamma y_{t-1}  + \\delta_1 \\Delta y_{t-1} + \\delta_2 \\Delta y_{t-2} + ...\n",
    "\\end{equation}\n",
    "\n",
    "The null hypothesis for both tests is that the data are non-stationary.  We want to REJECT the null hypothesis for this test, so we want a p-value of less that 0.05. "
   ]
  },
  {
   "cell_type": "markdown",
   "metadata": {},
   "source": [
    "## ADF test using adf.test()\n",
    "\n",
    "The adf.test() from the tseries package will do a Augmented Dickey-Fuller test (Dickey-Fuller if we set lags equal to 0) with a trend and an intercept. \n",
    "Use ?adf.test to read about this function. The function is"
   ]
  },
  {
   "cell_type": "markdown",
   "metadata": {},
   "source": [
    "library(tseries)\n",
    "\n",
    "adf.test(x, alternative = c(\"stationary\", \"explosive\"),\n",
    "\n",
    "         k = trunc((length(x)-1)^(1/3)))"
   ]
  },
  {
   "cell_type": "markdown",
   "metadata": {},
   "source": [
    "x are your data. alternative = \"stationary\" means that   $ -2 <  \\gamma < 0$  $(-1 < \\phi < 1) $. alternative=\"explosive\" means that is outside these bounds.  $k$ is the number of  $\\delta$ lags.  For a Dickey-Fuller test, so only up to AR(1) time dependency in our stationary process, we set $k = 0$,  so we have no  $\\delta$'s in our test. Being able to control the lags in our test, allows us to avoid a stationarity test that is too complex to be supported by our data."
   ]
  },
  {
   "cell_type": "markdown",
   "metadata": {},
   "source": [
    "### Test on white noise\n",
    "\n",
    "Let’s start by doing the test on data that we know are stationary, white noise. We will use an Augmented Dickey-Fuller test where we use the default number of lags (amount of time-dependency) in our test. For a time-series of 100, this is 4. "
   ]
  },
  {
   "cell_type": "code",
   "execution_count": 4,
   "metadata": {},
   "outputs": [
    {
     "name": "stderr",
     "output_type": "stream",
     "text": [
      "Warning message in tseries::adf.test(wn):\n",
      "“p-value smaller than printed p-value”\n"
     ]
    },
    {
     "data": {
      "text/plain": [
       "\n",
       "\tAugmented Dickey-Fuller Test\n",
       "\n",
       "data:  wn\n",
       "Dickey-Fuller = -4.2893, Lag order = 4, p-value = 0.01\n",
       "alternative hypothesis: stationary\n"
      ]
     },
     "metadata": {},
     "output_type": "display_data"
    }
   ],
   "source": [
    "TT <- 100\n",
    "wn <- rnorm(TT) # white noise\n",
    "tseries::adf.test(wn)"
   ]
  },
  {
   "cell_type": "markdown",
   "metadata": {},
   "source": [
    "Warning in tseries::adf.test(wn): p-value smaller than printed p-value\n",
    "\n",
    "\n",
    "The null hypothesis is rejected.\n",
    "\n",
    "Try a Dickey-Fuller test. This is testing with a null hypothesis of AR(1) stationarity versus a null hypothesis with AR(4) stationarity when we used the default k. "
   ]
  },
  {
   "cell_type": "code",
   "execution_count": 3,
   "metadata": {
    "scrolled": true
   },
   "outputs": [
    {
     "name": "stderr",
     "output_type": "stream",
     "text": [
      "Warning message in tseries::adf.test(wn, k = 0):\n",
      "“p-value smaller than printed p-value”\n"
     ]
    },
    {
     "data": {
      "text/plain": [
       "\n",
       "\tAugmented Dickey-Fuller Test\n",
       "\n",
       "data:  wn\n",
       "Dickey-Fuller = -13.393, Lag order = 0, p-value = 0.01\n",
       "alternative hypothesis: stationary\n"
      ]
     },
     "metadata": {},
     "output_type": "display_data"
    }
   ],
   "source": [
    "tseries::adf.test(wn, k = 0)"
   ]
  },
  {
   "cell_type": "markdown",
   "metadata": {},
   "source": [
    "Notice that the test-statistic is smaller. This is a more restrictive test and we can reject the null with a higher significance level."
   ]
  },
  {
   "cell_type": "markdown",
   "metadata": {},
   "source": [
    "###  Test on white noise with trend\n",
    "\n",
    "Try the test on white noise with a trend and intercept."
   ]
  },
  {
   "cell_type": "code",
   "execution_count": 3,
   "metadata": {},
   "outputs": [
    {
     "name": "stderr",
     "output_type": "stream",
     "text": [
      "Warning message in tseries::adf.test(wnt):\n",
      "“p-value smaller than printed p-value”\n"
     ]
    },
    {
     "data": {
      "text/plain": [
       "\n",
       "\tAugmented Dickey-Fuller Test\n",
       "\n",
       "data:  wnt\n",
       "Dickey-Fuller = -4.4009, Lag order = 4, p-value = 0.01\n",
       "alternative hypothesis: stationary\n"
      ]
     },
     "metadata": {},
     "output_type": "display_data"
    }
   ],
   "source": [
    "intercept <- 1\n",
    "wnt <- wn + 1:TT + intercept\n",
    "tseries::adf.test(wnt)"
   ]
  },
  {
   "cell_type": "markdown",
   "metadata": {},
   "source": [
    "Warning in tseries::adf.test(wnt): p-value smaller than printed p-value\n",
    "\n",
    "The null hypothesis is still rejected. adf.test() uses a model that allows an intercept and trend."
   ]
  },
  {
   "cell_type": "markdown",
   "metadata": {},
   "source": [
    "### Test on random walk\n",
    "\n",
    "Let’s try the test on a random walk (nonstationary)."
   ]
  },
  {
   "cell_type": "code",
   "execution_count": 4,
   "metadata": {},
   "outputs": [
    {
     "data": {
      "text/plain": [
       "\n",
       "\tAugmented Dickey-Fuller Test\n",
       "\n",
       "data:  rw\n",
       "Dickey-Fuller = -2.9281, Lag order = 4, p-value = 0.1922\n",
       "alternative hypothesis: stationary\n"
      ]
     },
     "metadata": {},
     "output_type": "display_data"
    }
   ],
   "source": [
    "rw <- cumsum(rnorm(TT))\n",
    "tseries::adf.test(rw)"
   ]
  },
  {
   "cell_type": "markdown",
   "metadata": {},
   "source": [
    "The null hypothesis is NOT rejected as the p-value is greater than 0.05.\n",
    "\n",
    "Try a Dickey-Fuller test."
   ]
  },
  {
   "cell_type": "code",
   "execution_count": 5,
   "metadata": {},
   "outputs": [
    {
     "data": {
      "text/plain": [
       "\n",
       "\tAugmented Dickey-Fuller Test\n",
       "\n",
       "data:  rw\n",
       "Dickey-Fuller = -3.5482, Lag order = 0, p-value = 0.04133\n",
       "alternative hypothesis: stationary\n"
      ]
     },
     "metadata": {},
     "output_type": "display_data"
    }
   ],
   "source": [
    "tseries::adf.test(rw, k=0)"
   ]
  },
  {
   "cell_type": "markdown",
   "metadata": {},
   "source": [
    "Notice that the test-statistic is larger."
   ]
  },
  {
   "cell_type": "markdown",
   "metadata": {},
   "source": [
    "### Test the GDP of UK "
   ]
  },
  {
   "cell_type": "code",
   "execution_count": 9,
   "metadata": {},
   "outputs": [
    {
     "data": {
      "text/plain": [
       "\n",
       "\tAugmented Dickey-Fuller Test\n",
       "\n",
       "data:  input$ObsValue\n",
       "Dickey-Fuller = -2.3231, Lag order = 6, p-value = 0.4399\n",
       "alternative hypothesis: stationary\n"
      ]
     },
     "metadata": {},
     "output_type": "display_data"
    }
   ],
   "source": [
    "library(OECD)\n",
    "input=get_dataset(\"QNA\", filter=list(\"GBR\", \"B1_GA\", \"LNBQRSA\", \"Q\"))\n",
    "\n",
    "tseries::adf.test(input$ObsValue)\n",
    "#tseries::adf.test(input$ObsValue, k=0)"
   ]
  },
  {
   "cell_type": "code",
   "execution_count": 7,
   "metadata": {},
   "outputs": [
    {
     "data": {
      "image/png": "[encoded data removed]",
      "text/plain": [
       "plot without title"
      ]
     },
     "metadata": {
      "image/png": {
       "height": 420,
       "width": 420
      }
     },
     "output_type": "display_data"
    }
   ],
   "source": [
    "plot.ts(input$ObsValue)"
   ]
  },
  {
   "cell_type": "markdown",
   "metadata": {},
   "source": [
    "The p-value is greater than 0.05. We cannot reject the null hypothesis. The null hypothesis is that the data are non-stationary."
   ]
  },
  {
   "cell_type": "markdown",
   "metadata": {},
   "source": [
    "## ADF test using ur.df()\n",
    "\n",
    "The ur.df() Augmented Dickey-Fuller test in the urca package gives us a bit more information on and control over the test.\n",
    "\n",
    "                                               ur.df(y, type = c(\"none\", \"drift\", \"trend\"), lags = 1, selectlags = c(\"Fixed\", \"AIC\", \"BIC\")) \n",
    "                                                                             \n",
    "The ur.df() function allows us to specify whether to test stationarity around a zero-mean with no trend, around a non-zero mean with no trend, or around a trend with an intercept. This can be useful when we know that our data have no trend, for example if you have removed the trend already. ur.df() allows us to specify the lags or select them using model selection.\n",
    "\n",
    "###  Test on white noise\n",
    "\n",
    "Let’s first do the test on data we know is stationary, white noise. We have to choose the type and lags. If you have no particular reason to not include an intercept and trend, then use type=\"trend\". This allows both intercept and trend. When you might you have a particular reason not to use \"trend\"? When you have removed the trend and/or intercept. \n",
    "\n",
    "Next you need to chose the lags. We will use $lags=0$ to do the Dickey-Fuller test. Note the number of lags you can test will depend on the amount of data that you have. adf.test() used a default of $trunc((length(x)-1)^{1/3})$ for the lags, but ur.df() requires that you pass in a value or use a fixed default of 1.\n",
    "\n",
    "$lags=0$ is fitting this model to the data. You are testing if the effect for z.lag.1 is 0.\n",
    "\n",
    "z.diff = gamma * z.lag.1 + intercept + trend * tt\n",
    "\n",
    "\n",
    "z.diff means  $\\Delta y_t$  and z.lag.1 is $y_{t-1}$\n",
    "\n",
    "\n",
    "When you use summary() for the output from ur.df(), you will see the estimated values for $\\gamma$ (denoted z.lag.1), intercept and trend.   If you see *** or ** on the coefficients list for z.lag.1, it indicates that the effect of z.lag.1 is significantly different than 0 and this supports the assumption of stationarity. \n",
    "\n",
    "The intercept and tt estimates indicate where there is a non-zero level (intercept) or linear trend (tt)."
   ]
  },
  {
   "cell_type": "code",
   "execution_count": 7,
   "metadata": {},
   "outputs": [
    {
     "data": {
      "text/plain": [
       "\n",
       "############################################### \n",
       "# Augmented Dickey-Fuller Test Unit Root Test # \n",
       "############################################### \n",
       "\n",
       "Test regression trend \n",
       "\n",
       "\n",
       "Call:\n",
       "lm(formula = z.diff ~ z.lag.1 + 1 + tt)\n",
       "\n",
       "Residuals:\n",
       "    Min      1Q  Median      3Q     Max \n",
       "-2.4241 -0.4778  0.0395  0.5800  2.2018 \n",
       "\n",
       "Coefficients:\n",
       "             Estimate Std. Error t value Pr(>|t|)    \n",
       "(Intercept) -0.037647   0.182112  -0.207    0.837    \n",
       "z.lag.1     -1.067760   0.101205 -10.550   <2e-16 ***\n",
       "tt           0.001479   0.003170   0.467    0.642    \n",
       "---\n",
       "Signif. codes:  0 '***' 0.001 '**' 0.01 '*' 0.05 '.' 0.1 ' ' 1\n",
       "\n",
       "Residual standard error: 0.8969 on 96 degrees of freedom\n",
       "Multiple R-squared:  0.5377,\tAdjusted R-squared:  0.5281 \n",
       "F-statistic: 55.83 on 2 and 96 DF,  p-value: < 2.2e-16\n",
       "\n",
       "\n",
       "Value of test-statistic is: -10.5505 37.2198 55.828 \n",
       "\n",
       "Critical values for test statistics: \n",
       "      1pct  5pct 10pct\n",
       "tau3 -4.04 -3.45 -3.15\n",
       "phi2  6.50  4.88  4.16\n",
       "phi3  8.73  6.49  5.47\n"
      ]
     },
     "metadata": {},
     "output_type": "display_data"
    }
   ],
   "source": [
    "library(urca)\n",
    "wn <- rnorm(TT)\n",
    "test <- urca::ur.df(wn, type=\"trend\", lags=0, selectlags = c(\"Fixed\", \"AIC\", \"BIC\"))\n",
    "summary(test)"
   ]
  },
  {
   "cell_type": "markdown",
   "metadata": {},
   "source": [
    "The coefficient part of the summary indicates that z.lag.1 is different than 0 (so stationary) and no support for intercept or trend.\n",
    "\n",
    "Notice that the test statistic is LESS than the critical value for tau3 at 5 percent. This means the null hypothesis is rejected at  \n",
    "$\\alpha = 0.05$, a standard level for significance testing.\n",
    "\n",
    "#### When you might want to use ur.df()\n",
    "If you remove the trend (and/or level) from your data, the ur.df() test allows you to increase the power of the test by removing the trend and/or level from the model."
   ]
  },
  {
   "cell_type": "markdown",
   "metadata": {},
   "source": [
    "Source: https://nwfsc-timeseries.github.io/atsa-labs/sec-boxjenkins-aug-dickey-fuller.html"
   ]
  }
 ],
 "metadata": {
  "kernelspec": {
   "display_name": "R",
   "language": "R",
   "name": "ir"
  },
  "language_info": {
   "codemirror_mode": "r",
   "file_extension": ".r",
   "mimetype": "text/x-r-source",
   "name": "R",
   "pygments_lexer": "r",
   "version": "4.1.2"
  }
 },
 "nbformat": 4,
 "nbformat_minor": 4
}
