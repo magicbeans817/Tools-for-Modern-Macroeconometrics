{
 "cells": [
  {
   "cell_type": "markdown",
   "metadata": {},
   "source": [
    "# Time Series ARIMA Models\n",
    "\n",
    "#### https://sites.google.com/site/econometricsacademy/econometrics-models/time-series-arima-models"
   ]
  },
  {
   "cell_type": "code",
   "execution_count": 1,
   "metadata": {},
   "outputs": [
    {
     "name": "stderr",
     "output_type": "stream",
     "text": [
      "Installing package into 'C:/Users/Nino/Documents/R/win-library/3.6'\n",
      "(as 'lib' is unspecified)\n"
     ]
    },
    {
     "name": "stdout",
     "output_type": "stream",
     "text": [
      "package 'tseries' successfully unpacked and MD5 sums checked\n"
     ]
    },
    {
     "name": "stderr",
     "output_type": "stream",
     "text": [
      "Warning message:\n",
      "\"cannot remove prior installation of package 'tseries'\"Warning message in file.copy(savedcopy, lib, recursive = TRUE):\n",
      "\"problem copying C:\\Users\\Nino\\Documents\\R\\win-library\\3.6\\00LOCK\\tseries\\libs\\x64\\tseries.dll to C:\\Users\\Nino\\Documents\\R\\win-library\\3.6\\tseries\\libs\\x64\\tseries.dll: Permission denied\"Warning message:\n",
      "\"restored 'tseries'\""
     ]
    },
    {
     "name": "stdout",
     "output_type": "stream",
     "text": [
      "\n",
      "The downloaded binary packages are in\n",
      "\tC:\\Users\\Nino\\AppData\\Local\\Temp\\RtmpqU737p\\downloaded_packages\n"
     ]
    },
    {
     "name": "stderr",
     "output_type": "stream",
     "text": [
      "Installing package into 'C:/Users/Nino/Documents/R/win-library/3.6'\n",
      "(as 'lib' is unspecified)\n"
     ]
    },
    {
     "name": "stdout",
     "output_type": "stream",
     "text": [
      "package 'dynlm' successfully unpacked and MD5 sums checked\n",
      "\n",
      "The downloaded binary packages are in\n",
      "\tC:\\Users\\Nino\\AppData\\Local\\Temp\\RtmpqU737p\\downloaded_packages\n"
     ]
    },
    {
     "name": "stderr",
     "output_type": "stream",
     "text": [
      "Registered S3 method overwritten by 'xts':\n",
      "  method     from\n",
      "  as.zoo.xts zoo \n",
      "Registered S3 method overwritten by 'quantmod':\n",
      "  method            from\n",
      "  as.zoo.data.frame zoo \n",
      "-- Attaching packages --------------------------------------- tidyverse 1.2.1 --\n",
      "v ggplot2 3.2.1     v purrr   0.3.2\n",
      "v tibble  2.1.3     v dplyr   0.8.3\n",
      "v tidyr   0.8.3     v stringr 1.4.0\n",
      "v readr   1.3.1     v forcats 0.4.0\n",
      "-- Conflicts ------------------------------------------ tidyverse_conflicts() --\n",
      "x dplyr::between()   masks data.table::between()\n",
      "x tidyr::extract()   masks magrittr::extract()\n",
      "x dplyr::filter()    masks stats::filter()\n",
      "x dplyr::first()     masks data.table::first()\n",
      "x dplyr::lag()       masks stats::lag()\n",
      "x dplyr::last()      masks data.table::last()\n",
      "x purrr::set_names() masks magrittr::set_names()\n",
      "x purrr::transpose() masks data.table::transpose()\n",
      "Warning message:\n",
      "\"package 'OECD' was built under R version 3.6.3\"Loading required package: carData\n",
      "\n",
      "Attaching package: 'car'\n",
      "\n",
      "The following object is masked from 'package:dplyr':\n",
      "\n",
      "    recode\n",
      "\n",
      "The following object is masked from 'package:purrr':\n",
      "\n",
      "    some\n",
      "\n"
     ]
    }
   ],
   "source": [
    "install.packages(\"tseries\")\n",
    "install.packages(\"dynlm\")\n",
    "library(\"tseries\")\n",
    "library(\"magrittr\")\n",
    "library(\"data.table\")\n",
    "library(\"tidyverse\")\n",
    "library(\"OECD\")\n",
    "library(\"ggplot2\")\n",
    "library(\"car\")"
   ]
  },
  {
   "cell_type": "code",
   "execution_count": 2,
   "metadata": {},
   "outputs": [
    {
     "data": {
      "text/html": [
       "<table>\n",
       "<caption>A tibble: 6 × 11</caption>\n",
       "<thead>\n",
       "\t<tr><th scope=col>LOCATION</th><th scope=col>SUBJECT</th><th scope=col>MEASURE</th><th scope=col>FREQUENCY</th><th scope=col>TIME_FORMAT</th><th scope=col>UNIT</th><th scope=col>POWERCODE</th><th scope=col>REFERENCEPERIOD</th><th scope=col>obsTime</th><th scope=col>obsValue</th><th scope=col>trend</th></tr>\n",
       "\t<tr><th scope=col>&lt;chr&gt;</th><th scope=col>&lt;chr&gt;</th><th scope=col>&lt;chr&gt;</th><th scope=col>&lt;chr&gt;</th><th scope=col>&lt;chr&gt;</th><th scope=col>&lt;chr&gt;</th><th scope=col>&lt;chr&gt;</th><th scope=col>&lt;chr&gt;</th><th scope=col>&lt;chr&gt;</th><th scope=col>&lt;dbl&gt;</th><th scope=col>&lt;int&gt;</th></tr>\n",
       "</thead>\n",
       "<tbody>\n",
       "\t<tr><td>FRA</td><td>B1_GA</td><td>LNBQRSA</td><td>Q</td><td>P3M</td><td>EUR</td><td>6</td><td>2014</td><td>1995-Q1</td><td>393033</td><td>1</td></tr>\n",
       "\t<tr><td>FRA</td><td>B1_GA</td><td>LNBQRSA</td><td>Q</td><td>P3M</td><td>EUR</td><td>6</td><td>2014</td><td>1995-Q2</td><td>394681</td><td>2</td></tr>\n",
       "\t<tr><td>FRA</td><td>B1_GA</td><td>LNBQRSA</td><td>Q</td><td>P3M</td><td>EUR</td><td>6</td><td>2014</td><td>1995-Q3</td><td>395311</td><td>3</td></tr>\n",
       "\t<tr><td>FRA</td><td>B1_GA</td><td>LNBQRSA</td><td>Q</td><td>P3M</td><td>EUR</td><td>6</td><td>2014</td><td>1995-Q4</td><td>396018</td><td>4</td></tr>\n",
       "\t<tr><td>FRA</td><td>B1_GA</td><td>LNBQRSA</td><td>Q</td><td>P3M</td><td>EUR</td><td>6</td><td>2014</td><td>1996-Q1</td><td>398255</td><td>5</td></tr>\n",
       "\t<tr><td>FRA</td><td>B1_GA</td><td>LNBQRSA</td><td>Q</td><td>P3M</td><td>EUR</td><td>6</td><td>2014</td><td>1996-Q2</td><td>399235</td><td>6</td></tr>\n",
       "</tbody>\n",
       "</table>\n"
      ],
      "text/latex": [
       "A tibble: 6 × 11\n",
       "\\begin{tabular}{r|lllllllllll}\n",
       " LOCATION & SUBJECT & MEASURE & FREQUENCY & TIME\\_FORMAT & UNIT & POWERCODE & REFERENCEPERIOD & obsTime & obsValue & trend\\\\\n",
       " <chr> & <chr> & <chr> & <chr> & <chr> & <chr> & <chr> & <chr> & <chr> & <dbl> & <int>\\\\\n",
       "\\hline\n",
       "\t FRA & B1\\_GA & LNBQRSA & Q & P3M & EUR & 6 & 2014 & 1995-Q1 & 393033 & 1\\\\\n",
       "\t FRA & B1\\_GA & LNBQRSA & Q & P3M & EUR & 6 & 2014 & 1995-Q2 & 394681 & 2\\\\\n",
       "\t FRA & B1\\_GA & LNBQRSA & Q & P3M & EUR & 6 & 2014 & 1995-Q3 & 395311 & 3\\\\\n",
       "\t FRA & B1\\_GA & LNBQRSA & Q & P3M & EUR & 6 & 2014 & 1995-Q4 & 396018 & 4\\\\\n",
       "\t FRA & B1\\_GA & LNBQRSA & Q & P3M & EUR & 6 & 2014 & 1996-Q1 & 398255 & 5\\\\\n",
       "\t FRA & B1\\_GA & LNBQRSA & Q & P3M & EUR & 6 & 2014 & 1996-Q2 & 399235 & 6\\\\\n",
       "\\end{tabular}\n"
      ],
      "text/markdown": [
       "\n",
       "A tibble: 6 × 11\n",
       "\n",
       "| LOCATION &lt;chr&gt; | SUBJECT &lt;chr&gt; | MEASURE &lt;chr&gt; | FREQUENCY &lt;chr&gt; | TIME_FORMAT &lt;chr&gt; | UNIT &lt;chr&gt; | POWERCODE &lt;chr&gt; | REFERENCEPERIOD &lt;chr&gt; | obsTime &lt;chr&gt; | obsValue &lt;dbl&gt; | trend &lt;int&gt; |\n",
       "|---|---|---|---|---|---|---|---|---|---|---|\n",
       "| FRA | B1_GA | LNBQRSA | Q | P3M | EUR | 6 | 2014 | 1995-Q1 | 393033 | 1 |\n",
       "| FRA | B1_GA | LNBQRSA | Q | P3M | EUR | 6 | 2014 | 1995-Q2 | 394681 | 2 |\n",
       "| FRA | B1_GA | LNBQRSA | Q | P3M | EUR | 6 | 2014 | 1995-Q3 | 395311 | 3 |\n",
       "| FRA | B1_GA | LNBQRSA | Q | P3M | EUR | 6 | 2014 | 1995-Q4 | 396018 | 4 |\n",
       "| FRA | B1_GA | LNBQRSA | Q | P3M | EUR | 6 | 2014 | 1996-Q1 | 398255 | 5 |\n",
       "| FRA | B1_GA | LNBQRSA | Q | P3M | EUR | 6 | 2014 | 1996-Q2 | 399235 | 6 |\n",
       "\n"
      ],
      "text/plain": [
       "  LOCATION SUBJECT MEASURE FREQUENCY TIME_FORMAT UNIT POWERCODE REFERENCEPERIOD\n",
       "1 FRA      B1_GA   LNBQRSA Q         P3M         EUR  6         2014           \n",
       "2 FRA      B1_GA   LNBQRSA Q         P3M         EUR  6         2014           \n",
       "3 FRA      B1_GA   LNBQRSA Q         P3M         EUR  6         2014           \n",
       "4 FRA      B1_GA   LNBQRSA Q         P3M         EUR  6         2014           \n",
       "5 FRA      B1_GA   LNBQRSA Q         P3M         EUR  6         2014           \n",
       "6 FRA      B1_GA   LNBQRSA Q         P3M         EUR  6         2014           \n",
       "  obsTime obsValue trend\n",
       "1 1995-Q1 393033   1    \n",
       "2 1995-Q2 394681   2    \n",
       "3 1995-Q3 395311   3    \n",
       "4 1995-Q4 396018   4    \n",
       "5 1996-Q1 398255   5    \n",
       "6 1996-Q2 399235   6    "
      ]
     },
     "metadata": {},
     "output_type": "display_data"
    }
   ],
   "source": [
    "mydata = get_dataset('QNA', filter = list(\"FRA\", \"B1_GA\", \"LNBQRSA\", \"Q\"), start_time = 1995, end_time = 2019)  \n",
    "mydata$trend <- 1:nrow(mydata)\n",
    "mydata %>% head\n",
    "#mydata "
   ]
  },
  {
   "cell_type": "code",
   "execution_count": 3,
   "metadata": {},
   "outputs": [],
   "source": [
    "options(repr.plot.width = 10, repr.plot.height = 4)"
   ]
  },
  {
   "cell_type": "code",
   "execution_count": 4,
   "metadata": {},
   "outputs": [],
   "source": [
    "# Defining variables\n",
    "Y <- mydata$obsValue\n",
    "d.Y <- diff(Y)\n",
    "\n",
    "lY <- lag(Y)[-1]\n",
    "#c.Y <- diff(Y)/lY\n",
    "lYs <- lY[-1]\n"
   ]
  },
  {
   "cell_type": "markdown",
   "metadata": {},
   "source": [
    "# 1. Identification step\n",
    "## 1.1  Examine the time plot of the series.\n",
    "                o Identify outliers, missing values, and structural breaks in the data.\n",
    "                o Non-stationary variables may have a pronounced trend or have changing variance.\n",
    "                o Transform the data if needed. Use logs, differencing, or detrending.\n",
    "                         Using logs works if the variability of data increases over time.\n",
    "                         Differencing the data can remove trends. But over-differencing may introduce dependence when none exists."
   ]
  },
  {
   "cell_type": "code",
   "execution_count": 5,
   "metadata": {
    "scrolled": false
   },
   "outputs": [
    {
     "data": {
      "text/plain": [
       "   Min. 1st Qu.  Median    Mean 3rd Qu.    Max. \n",
       " 393033  464607  508985  496919  533513  582050 "
      ]
     },
     "metadata": {},
     "output_type": "display_data"
    },
    {
     "data": {
      "text/plain": [
       "   Min. 1st Qu.  Median    Mean 3rd Qu.    Max. \n",
       "  -8537     724    2111    1898    3596    6028 "
      ]
     },
     "metadata": {},
     "output_type": "display_data"
    },
    {
     "data": {
      "image/png": "[encoded data removed]",
      "text/plain": [
       "Plot with title \"y\""
      ]
     },
     "metadata": {},
     "output_type": "display_data"
    },
    {
     "data": {
      "image/png": "[encoded data removed]",
      "text/plain": [
       "Plot with title \"l.y\""
      ]
     },
     "metadata": {},
     "output_type": "display_data"
    },
    {
     "data": {
      "image/png": "[encoded data removed]",
      "text/plain": [
       "Plot with title \"d.y\""
      ]
     },
     "metadata": {},
     "output_type": "display_data"
    }
   ],
   "source": [
    "# Descriptive statistics and plotting the data\n",
    "summary(Y)\n",
    "summary(d.Y)\n",
    "\n",
    "plot.ts(Y, ylab = NA, main = 'y', cex.main = 0.8)\n",
    "plot.ts(lY,  ylab = NA, main = 'l.y', cex.main = 0.8)\n",
    "plot.ts(d.Y,  ylab = NA, main = 'd.y', cex.main = 0.8)"
   ]
  },
  {
   "cell_type": "code",
   "execution_count": 6,
   "metadata": {},
   "outputs": [
    {
     "data": {
      "text/plain": [
       "\n",
       "\tAugmented Dickey-Fuller Test\n",
       "\n",
       "data:  Y\n",
       "Dickey-Fuller = -1.4478, Lag order = 0, p-value = 0.8054\n",
       "alternative hypothesis: stationary\n"
      ]
     },
     "metadata": {},
     "output_type": "display_data"
    },
    {
     "data": {
      "text/plain": [
       "\n",
       "\tAugmented Dickey-Fuller Test\n",
       "\n",
       "data:  Y\n",
       "Dickey-Fuller = -1.4478, Lag order = 0, p-value = 0.1946\n",
       "alternative hypothesis: explosive\n"
      ]
     },
     "metadata": {},
     "output_type": "display_data"
    }
   ],
   "source": [
    "# Dickey-Fuller test for variable\n",
    "adf.test(Y, alternative=\"stationary\", k=0)\n",
    "adf.test(Y, alternative=\"explosive\", k=0)"
   ]
  },
  {
   "cell_type": "code",
   "execution_count": 7,
   "metadata": {},
   "outputs": [
    {
     "data": {
      "text/plain": [
       "\n",
       "Call:\n",
       "lm(formula = d.Y ~ lY, na.action = na.omit)\n",
       "\n",
       "Residuals:\n",
       "     Min       1Q   Median       3Q      Max \n",
       "-10290.5  -1124.9    144.4   1643.3   3714.1 \n",
       "\n",
       "Coefficients:\n",
       "              Estimate Std. Error t value Pr(>|t|)   \n",
       "(Intercept)  5.853e+03  2.153e+03   2.718  0.00777 **\n",
       "lY          -7.973e-03  4.317e-03  -1.847  0.06778 . \n",
       "---\n",
       "Signif. codes:  0 '***' 0.001 '**' 0.01 '*' 0.05 '.' 0.1 ' ' 1\n",
       "\n",
       "Residual standard error: 2236 on 97 degrees of freedom\n",
       "Multiple R-squared:  0.03398,\tAdjusted R-squared:  0.02402 \n",
       "F-statistic: 3.412 on 1 and 97 DF,  p-value: 0.06778\n"
      ]
     },
     "metadata": {},
     "output_type": "display_data"
    },
    {
     "data": {
      "text/plain": [
       "\n",
       "Call:\n",
       "lm(formula = d.Y ~ lY + trends, na.action = na.omit)\n",
       "\n",
       "Residuals:\n",
       "     Min       1Q   Median       3Q      Max \n",
       "-10151.7  -1236.5     70.4   1683.8   3728.0 \n",
       "\n",
       "Coefficients:\n",
       "              Estimate Std. Error t value Pr(>|t|)  \n",
       "(Intercept)  1.393e+04  7.892e+03   1.765   0.0807 .\n",
       "lY          -2.813e-02  1.943e-02  -1.448   0.1509  \n",
       "trends       3.765e+01  3.539e+01   1.064   0.2900  \n",
       "---\n",
       "Signif. codes:  0 '***' 0.001 '**' 0.01 '*' 0.05 '.' 0.1 ' ' 1\n",
       "\n",
       "Residual standard error: 2234 on 96 degrees of freedom\n",
       "Multiple R-squared:  0.04523,\tAdjusted R-squared:  0.02534 \n",
       "F-statistic: 2.274 on 2 and 96 DF,  p-value: 0.1084\n"
      ]
     },
     "metadata": {},
     "output_type": "display_data"
    }
   ],
   "source": [
    "trends <- mydata$trend[-1]\n",
    "summary(lm(d.Y ~ lY, na.action=na.omit))\n",
    "summary(lm(d.Y ~ lY + trends, na.action=na.omit))"
   ]
  },
  {
   "cell_type": "code",
   "execution_count": 8,
   "metadata": {},
   "outputs": [
    {
     "data": {
      "text/plain": [
       "\n",
       "\tAugmented Dickey-Fuller Test\n",
       "\n",
       "data:  Y\n",
       "Dickey-Fuller = -2.2037, Lag order = 4, p-value = 0.4922\n",
       "alternative hypothesis: stationary\n"
      ]
     },
     "metadata": {},
     "output_type": "display_data"
    }
   ],
   "source": [
    "# Augmented Dickey-Fuller test\n",
    "adf.test(Y, alternative=\"stationary\")"
   ]
  },
  {
   "cell_type": "code",
   "execution_count": 9,
   "metadata": {},
   "outputs": [
    {
     "name": "stderr",
     "output_type": "stream",
     "text": [
      "Warning message in adf.test(d.Y, k = 0):\n",
      "\"p-value smaller than printed p-value\""
     ]
    },
    {
     "data": {
      "text/plain": [
       "\n",
       "\tAugmented Dickey-Fuller Test\n",
       "\n",
       "data:  d.Y\n",
       "Dickey-Fuller = -5.3958, Lag order = 0, p-value = 0.01\n",
       "alternative hypothesis: stationary\n"
      ]
     },
     "metadata": {},
     "output_type": "display_data"
    },
    {
     "data": {
      "text/plain": [
       "\n",
       "\tAugmented Dickey-Fuller Test\n",
       "\n",
       "data:  d.Y\n",
       "Dickey-Fuller = -3.5496, Lag order = 4, p-value = 0.04131\n",
       "alternative hypothesis: stationary\n"
      ]
     },
     "metadata": {},
     "output_type": "display_data"
    }
   ],
   "source": [
    "# DF and ADF tests for differenced variable\n",
    "adf.test(d.Y, k=0)\n",
    "adf.test(d.Y)"
   ]
  },
  {
   "cell_type": "markdown",
   "metadata": {},
   "source": [
    "## 1.2 Examine the autocorrelation function (ACF) and partial autocorrelation function (PACF).\n",
    "                        o Compare the sample ACF and PACF to those of various theoretical ARMA models. Use properties of ACF and PACF as a guide to \n",
    "                                   estimate plausible models and select appropriate p, d, and q.\n",
    "                        o With empirical data, several models may need to be estimated.\n",
    "                        o Differencing may be needed if there is a slow decay in the ACF."
   ]
  },
  {
   "cell_type": "markdown",
   "metadata": {},
   "source": [
    "#### ACF and PACF"
   ]
  },
  {
   "cell_type": "code",
   "execution_count": 10,
   "metadata": {
    "scrolled": false
   },
   "outputs": [
    {
     "data": {
      "image/png": "[encoded data removed]",
      "text/plain": [
       "Plot with title \"Series  Y\""
      ]
     },
     "metadata": {},
     "output_type": "display_data"
    },
    {
     "data": {
      "image/png": "[encoded data removed]",
      "text/plain": [
       "Plot with title \"Series  Y\""
      ]
     },
     "metadata": {},
     "output_type": "display_data"
    },
    {
     "data": {
      "image/png": "[encoded data removed]",
      "text/plain": [
       "Plot with title \"Series  d.Y\""
      ]
     },
     "metadata": {},
     "output_type": "display_data"
    },
    {
     "data": {
      "image/png": "[encoded data removed]",
      "text/plain": [
       "Plot with title \"Series  d.Y\""
      ]
     },
     "metadata": {},
     "output_type": "display_data"
    }
   ],
   "source": [
    "acf(Y)\n",
    "pacf(Y)\n",
    "acf(d.Y)\n",
    "pacf(d.Y)"
   ]
  },
  {
   "cell_type": "markdown",
   "metadata": {},
   "source": [
    "# 2. Estimation step\n",
    "         Estimate ARMA models and examine the various coefficients.\n",
    "         The goal is to select a stationary and parsimonious model that has significant coefficients and a good fit."
   ]
  },
  {
   "cell_type": "markdown",
   "metadata": {},
   "source": [
    "## ARIMA Models\n",
    "\n",
    "note: \n",
    "> The \"t value\" is the ratio of the coefficient to the standard error.  \n",
    "\n",
    "> The degrees of freedom (ndf) would be the number of observations minus the max order of difference in the model minus the number of estimated coefficients. \n",
    "\n",
    "         "
   ]
  },
  {
   "cell_type": "markdown",
   "metadata": {},
   "source": [
    "#### ARIMA on original variable"
   ]
  },
  {
   "cell_type": "code",
   "execution_count": 11,
   "metadata": {},
   "outputs": [
    {
     "data": {
      "text/plain": [
       "\n",
       "Call:\n",
       "arima(x = Y, order = c(1, 0, 0))\n",
       "\n",
       "Coefficients:\n",
       "         ar1  intercept\n",
       "      0.9995  489476.57\n",
       "s.e.  0.0007   90546.24\n",
       "\n",
       "sigma^2 estimated as 8671950:  log likelihood = -944.11,  aic = 1894.23"
      ]
     },
     "metadata": {},
     "output_type": "display_data"
    }
   ],
   "source": [
    "# ARIMA(1,0,0) or AR(1)\n",
    "arima(Y, order = c(1,0,0))"
   ]
  },
  {
   "cell_type": "code",
   "execution_count": 12,
   "metadata": {},
   "outputs": [
    {
     "data": {
      "text/plain": [
       "\n",
       "Call:\n",
       "arima(x = Y, order = c(2, 0, 0))\n",
       "\n",
       "Coefficients:\n",
       "         ar1      ar2  intercept\n",
       "      1.7243  -0.7253  487572.35\n",
       "s.e.  0.0681   0.0684   77947.76\n",
       "\n",
       "sigma^2 estimated as 4065976:  log likelihood = -906.92,  aic = 1821.83"
      ]
     },
     "metadata": {},
     "output_type": "display_data"
    }
   ],
   "source": [
    "# ARIMA(2,0,0) or AR(2)\n",
    "arima(Y, order = c(2,0,0))"
   ]
  },
  {
   "cell_type": "markdown",
   "metadata": {},
   "source": [
    "The problem arises in the stats::arima function when calculating the covariance matrix of the coefficients. The code is not very robust to scale effects due to large numbers, and crashes in computing the inverse of the Hessian matrix in this line:\n",
    "\n",
    "var <- crossprod(A, solve(res$hessian * n.used, A))\n",
    "\n",
    "The problem is avoided by simply scaling the data. For example: "
   ]
  },
  {
   "cell_type": "code",
   "execution_count": 13,
   "metadata": {},
   "outputs": [
    {
     "data": {
      "text/plain": [
       "\n",
       "Call:\n",
       "arima(x = Y/10, order = c(2, 0, 0))\n",
       "\n",
       "Coefficients:\n",
       "         ar1      ar2  intercept\n",
       "      1.7241  -0.7251   48658.53\n",
       "s.e.  0.0681   0.0683    7918.90\n",
       "\n",
       "sigma^2 estimated as 40649:  log likelihood = -676.66,  aic = 1361.31"
      ]
     },
     "metadata": {},
     "output_type": "display_data"
    }
   ],
   "source": [
    "# ARIMA(2,0,0) or AR(2)\n",
    "arima(Y/10, order = c(2,0,0))"
   ]
  },
  {
   "cell_type": "code",
   "execution_count": 14,
   "metadata": {},
   "outputs": [
    {
     "data": {
      "text/plain": [
       "\n",
       "Call:\n",
       "arima(x = Y, order = c(0, 0, 1))\n",
       "\n",
       "Coefficients:\n",
       "         ma1   intercept\n",
       "      1.0000  496783.828\n",
       "s.e.  0.0249    5315.153\n",
       "\n",
       "sigma^2 estimated as 713263754:  log likelihood = -1163.47,  aic = 2332.94"
      ]
     },
     "metadata": {},
     "output_type": "display_data"
    }
   ],
   "source": [
    "# ARIMA(0,0,1) or MA(1)\n",
    "arima(Y, order = c(0,0,1))"
   ]
  },
  {
   "cell_type": "code",
   "execution_count": 15,
   "metadata": {},
   "outputs": [
    {
     "name": "stderr",
     "output_type": "stream",
     "text": [
      "Warning message in sqrt(diag(x$var.coef)):\n",
      "\"NaNs produced\""
     ]
    },
    {
     "data": {
      "text/plain": [
       "\n",
       "Call:\n",
       "arima(x = Y, order = c(1, 0, 1))\n",
       "\n",
       "Coefficients:\n",
       "         ar1     ma1  intercept\n",
       "      0.9999  0.4932   676494.4\n",
       "s.e.  0.0000  0.0009        NaN\n",
       "\n",
       "sigma^2 estimated as 5750630:  log likelihood = -920.78,  aic = 1849.56"
      ]
     },
     "metadata": {},
     "output_type": "display_data"
    }
   ],
   "source": [
    "# ARIMA(1,0,1) or AR(1) MA(1)\n",
    "arima(Y, order = c(1,0,1))"
   ]
  },
  {
   "cell_type": "markdown",
   "metadata": {},
   "source": [
    "#### ARIMA on differenced variable"
   ]
  },
  {
   "cell_type": "code",
   "execution_count": 16,
   "metadata": {
    "scrolled": false
   },
   "outputs": [
    {
     "name": "stdout",
     "output_type": "stream",
     "text": [
      "[1] \"ARIMA(1,1,0)\"\n"
     ]
    },
    {
     "data": {
      "text/plain": [
       "\n",
       "Call:\n",
       "arima(x = d.Y, order = c(1, 0, 0))\n",
       "\n",
       "Coefficients:\n",
       "         ar1  intercept\n",
       "      0.5322  1861.5369\n",
       "s.e.  0.0850   404.9913\n",
       "\n",
       "sigma^2 estimated as 3631898:  log likelihood = -888.35,  aic = 1782.7"
      ]
     },
     "metadata": {},
     "output_type": "display_data"
    },
    {
     "data": {
      "text/html": [
       "<dl class=dl-horizontal>\n",
       "\t<dt>ar1</dt>\n",
       "\t\t<dd>0.000000000390404597538918</dd>\n",
       "\t<dt>intercept</dt>\n",
       "\t\t<dd>0.00000429675075963587</dd>\n",
       "</dl>\n"
      ],
      "text/latex": [
       "\\begin{description*}\n",
       "\\item[ar1] 0.000000000390404597538918\n",
       "\\item[intercept] 0.00000429675075963587\n",
       "\\end{description*}\n"
      ],
      "text/markdown": [
       "ar1\n",
       ":   0.000000000390404597538918intercept\n",
       ":   0.00000429675075963587\n",
       "\n"
      ],
      "text/plain": [
       "            ar1       intercept \n",
       "0.0000000003904 0.0000042967508 "
      ]
     },
     "metadata": {},
     "output_type": "display_data"
    },
    {
     "name": "stdout",
     "output_type": "stream",
     "text": [
      "[1] \"# ARIMA(0,1,1)\"\n"
     ]
    },
    {
     "data": {
      "text/plain": [
       "\n",
       "Call:\n",
       "arima(x = d.Y, order = c(0, 0, 1))\n",
       "\n",
       "Coefficients:\n",
       "        ma1  intercept\n",
       "      0.367     1887.6\n",
       "s.e.  0.076      278.1\n",
       "\n",
       "sigma^2 estimated as 4122171:  log likelihood = -894.5,  aic = 1795"
      ]
     },
     "metadata": {},
     "output_type": "display_data"
    },
    {
     "data": {
      "text/html": [
       "<dl class=dl-horizontal>\n",
       "\t<dt>ma1</dt>\n",
       "\t\t<dd>0.00000122667894508766</dd>\n",
       "\t<dt>intercept</dt>\n",
       "\t\t<dd>0.0000000000114892539926359</dd>\n",
       "</dl>\n"
      ],
      "text/latex": [
       "\\begin{description*}\n",
       "\\item[ma1] 0.00000122667894508766\n",
       "\\item[intercept] 0.0000000000114892539926359\n",
       "\\end{description*}\n"
      ],
      "text/markdown": [
       "ma1\n",
       ":   0.00000122667894508766intercept\n",
       ":   0.0000000000114892539926359\n",
       "\n"
      ],
      "text/plain": [
       "             ma1        intercept \n",
       "0.00000122667895 0.00000000001149 "
      ]
     },
     "metadata": {},
     "output_type": "display_data"
    },
    {
     "name": "stdout",
     "output_type": "stream",
     "text": [
      "[1] \"# ARIMA(1,1,1)\"\n"
     ]
    },
    {
     "data": {
      "text/plain": [
       "\n",
       "Call:\n",
       "arima(x = d.Y, order = c(1, 0, 1))\n",
       "\n",
       "Coefficients:\n",
       "        ar1     ma1  intercept\n",
       "      0.667  -0.185     1843.7\n",
       "s.e.  0.114   0.138      456.9\n",
       "\n",
       "sigma^2 estimated as 3569882:  log likelihood = -887.5,  aic = 1783"
      ]
     },
     "metadata": {},
     "output_type": "display_data"
    },
    {
     "data": {
      "text/html": [
       "<dl class=dl-horizontal>\n",
       "\t<dt>ar1</dt>\n",
       "\t\t<dd>0.00000000569103431047324</dd>\n",
       "\t<dt>ma1</dt>\n",
       "\t\t<dd>0.180699231346602</dd>\n",
       "\t<dt>intercept</dt>\n",
       "\t\t<dd>0.0000545954057700193</dd>\n",
       "</dl>\n"
      ],
      "text/latex": [
       "\\begin{description*}\n",
       "\\item[ar1] 0.00000000569103431047324\n",
       "\\item[ma1] 0.180699231346602\n",
       "\\item[intercept] 0.0000545954057700193\n",
       "\\end{description*}\n"
      ],
      "text/markdown": [
       "ar1\n",
       ":   0.00000000569103431047324ma1\n",
       ":   0.180699231346602intercept\n",
       ":   0.0000545954057700193\n",
       "\n"
      ],
      "text/plain": [
       "           ar1            ma1      intercept \n",
       "0.000000005691 0.180699231347 0.000054595406 "
      ]
     },
     "metadata": {},
     "output_type": "display_data"
    },
    {
     "name": "stdout",
     "output_type": "stream",
     "text": [
      "[1] \"# ARIMA(1,1,2)\"\n"
     ]
    },
    {
     "data": {
      "text/plain": [
       "\n",
       "Call:\n",
       "arima(x = d.Y, order = c(1, 0, 2))\n",
       "\n",
       "Coefficients:\n",
       "        ar1    ma1    ma2  intercept\n",
       "      0.303  0.164  0.359     1866.0\n",
       "s.e.  0.200  0.182  0.132      400.5\n",
       "\n",
       "sigma^2 estimated as 3392513:  log likelihood = -885.1,  aic = 1780"
      ]
     },
     "metadata": {},
     "output_type": "display_data"
    },
    {
     "data": {
      "text/html": [
       "<dl class=dl-horizontal>\n",
       "\t<dt>ar1</dt>\n",
       "\t\t<dd>0.129451277700187</dd>\n",
       "\t<dt>ma1</dt>\n",
       "\t\t<dd>0.366699561996568</dd>\n",
       "\t<dt>ma2</dt>\n",
       "\t\t<dd>0.00648322541086133</dd>\n",
       "\t<dt>intercept</dt>\n",
       "\t\t<dd>0.00000317012014816598</dd>\n",
       "</dl>\n"
      ],
      "text/latex": [
       "\\begin{description*}\n",
       "\\item[ar1] 0.129451277700187\n",
       "\\item[ma1] 0.366699561996568\n",
       "\\item[ma2] 0.00648322541086133\n",
       "\\item[intercept] 0.00000317012014816598\n",
       "\\end{description*}\n"
      ],
      "text/markdown": [
       "ar1\n",
       ":   0.129451277700187ma1\n",
       ":   0.366699561996568ma2\n",
       ":   0.00648322541086133intercept\n",
       ":   0.00000317012014816598\n",
       "\n"
      ],
      "text/plain": [
       "       ar1        ma1        ma2  intercept \n",
       "0.12945128 0.36669956 0.00648323 0.00000317 "
      ]
     },
     "metadata": {},
     "output_type": "display_data"
    },
    {
     "name": "stdout",
     "output_type": "stream",
     "text": [
      "[1] \"# ARIMA(2,1,3)\"\n"
     ]
    },
    {
     "data": {
      "text/plain": [
       "\n",
       "Call:\n",
       "arima(x = d.Y, order = c(2, 0, 3))\n",
       "\n",
       "Coefficients:\n",
       "         ar1    ar2    ma1    ma2    ma3  intercept\n",
       "      -0.670  0.191  1.194  0.624  0.429     1863.2\n",
       "s.e.   0.188  0.188  0.189  0.253  0.133      392.4\n",
       "\n",
       "sigma^2 estimated as 3221483:  log likelihood = -883.5,  aic = 1781"
      ]
     },
     "metadata": {},
     "output_type": "display_data"
    },
    {
     "data": {
      "text/html": [
       "<dl class=dl-horizontal>\n",
       "\t<dt>ar1</dt>\n",
       "\t\t<dd>0.000359555642754694</dd>\n",
       "\t<dt>ar2</dt>\n",
       "\t\t<dd>0.309795004774131</dd>\n",
       "\t<dt>ma1</dt>\n",
       "\t\t<dd>0.000000000246237030765428</dd>\n",
       "\t<dt>ma2</dt>\n",
       "\t\t<dd>0.0136650584153089</dd>\n",
       "\t<dt>ma3</dt>\n",
       "\t\t<dd>0.0012544667668053</dd>\n",
       "\t<dt>intercept</dt>\n",
       "\t\t<dd>0.00000204840895090541</dd>\n",
       "</dl>\n"
      ],
      "text/latex": [
       "\\begin{description*}\n",
       "\\item[ar1] 0.000359555642754694\n",
       "\\item[ar2] 0.309795004774131\n",
       "\\item[ma1] 0.000000000246237030765428\n",
       "\\item[ma2] 0.0136650584153089\n",
       "\\item[ma3] 0.0012544667668053\n",
       "\\item[intercept] 0.00000204840895090541\n",
       "\\end{description*}\n"
      ],
      "text/markdown": [
       "ar1\n",
       ":   0.000359555642754694ar2\n",
       ":   0.309795004774131ma1\n",
       ":   0.000000000246237030765428ma2\n",
       ":   0.0136650584153089ma3\n",
       ":   0.0012544667668053intercept\n",
       ":   0.00000204840895090541\n",
       "\n"
      ],
      "text/plain": [
       "            ar1             ar2             ma1             ma2             ma3 \n",
       "0.0003595556428 0.3097950047741 0.0000000002462 0.0136650584153 0.0012544667668 \n",
       "      intercept \n",
       "0.0000020484090 "
      ]
     },
     "metadata": {},
     "output_type": "display_data"
    },
    {
     "name": "stdout",
     "output_type": "stream",
     "text": [
      "[1] \"# ARIMA(3,1,2) THE BEST MODEL\"\n"
     ]
    },
    {
     "data": {
      "text/plain": [
       "\n",
       "Call:\n",
       "arima(x = d.Y, order = c(3, 0, 2))\n",
       "\n",
       "Coefficients:\n",
       "        ar1     ar2    ar3    ma1    ma2  intercept\n",
       "      0.276  -0.486  0.283  0.208  0.838     1881.2\n",
       "s.e.  0.217   0.319  0.151  0.173  0.206      400.1\n",
       "\n",
       "sigma^2 estimated as 3315056:  log likelihood = -884.1,  aic = 1782"
      ]
     },
     "metadata": {},
     "output_type": "display_data"
    },
    {
     "data": {
      "text/html": [
       "<dl class=dl-horizontal>\n",
       "\t<dt>ar1</dt>\n",
       "\t\t<dd>0.203697814909382</dd>\n",
       "\t<dt>ar2</dt>\n",
       "\t\t<dd>0.127604235843258</dd>\n",
       "\t<dt>ar3</dt>\n",
       "\t\t<dd>0.0600860021311156</dd>\n",
       "\t<dt>ma1</dt>\n",
       "\t\t<dd>0.229122750197602</dd>\n",
       "\t<dt>ma2</dt>\n",
       "\t\t<dd>0.0000460973324387659</dd>\n",
       "\t<dt>intercept</dt>\n",
       "\t\t<dd>0.00000258381869322477</dd>\n",
       "</dl>\n"
      ],
      "text/latex": [
       "\\begin{description*}\n",
       "\\item[ar1] 0.203697814909382\n",
       "\\item[ar2] 0.127604235843258\n",
       "\\item[ar3] 0.0600860021311156\n",
       "\\item[ma1] 0.229122750197602\n",
       "\\item[ma2] 0.0000460973324387659\n",
       "\\item[intercept] 0.00000258381869322477\n",
       "\\end{description*}\n"
      ],
      "text/markdown": [
       "ar1\n",
       ":   0.203697814909382ar2\n",
       ":   0.127604235843258ar3\n",
       ":   0.0600860021311156ma1\n",
       ":   0.229122750197602ma2\n",
       ":   0.0000460973324387659intercept\n",
       ":   0.00000258381869322477\n",
       "\n"
      ],
      "text/plain": [
       "        ar1         ar2         ar3         ma1         ma2   intercept \n",
       "0.203697815 0.127604236 0.060086002 0.229122750 0.000046097 0.000002584 "
      ]
     },
     "metadata": {},
     "output_type": "display_data"
    },
    {
     "name": "stdout",
     "output_type": "stream",
     "text": [
      "[1] \"# ARIMA(p, 1, q)\"\n"
     ]
    },
    {
     "data": {
      "text/plain": [
       "\n",
       "Call:\n",
       "arima(x = d.Y, order = c(4, 0, 2))\n",
       "\n",
       "Coefficients:\n",
       "         ar1    ar2    ar3     ar4    ma1    ma2  intercept\n",
       "      -0.616  0.513  0.235  -0.189  1.119  0.262     1862.1\n",
       "s.e.   0.417  0.272  0.273   0.141  0.423  0.430      406.1\n",
       "\n",
       "sigma^2 estimated as 3275896:  log likelihood = -883.5,  aic = 1783"
      ]
     },
     "metadata": {},
     "output_type": "display_data"
    },
    {
     "data": {
      "text/html": [
       "<dl class=dl-horizontal>\n",
       "\t<dt>ar1</dt>\n",
       "\t\t<dd>0.139913861399589</dd>\n",
       "\t<dt>ar2</dt>\n",
       "\t\t<dd>0.0595790532380613</dd>\n",
       "\t<dt>ar3</dt>\n",
       "\t\t<dd>0.390338236022075</dd>\n",
       "\t<dt>ar4</dt>\n",
       "\t\t<dd>0.180310250293923</dd>\n",
       "\t<dt>ma1</dt>\n",
       "\t\t<dd>0.00807606336115119</dd>\n",
       "\t<dt>ma2</dt>\n",
       "\t\t<dd>0.542237898688527</dd>\n",
       "\t<dt>intercept</dt>\n",
       "\t\t<dd>0.00000454227785584571</dd>\n",
       "</dl>\n"
      ],
      "text/latex": [
       "\\begin{description*}\n",
       "\\item[ar1] 0.139913861399589\n",
       "\\item[ar2] 0.0595790532380613\n",
       "\\item[ar3] 0.390338236022075\n",
       "\\item[ar4] 0.180310250293923\n",
       "\\item[ma1] 0.00807606336115119\n",
       "\\item[ma2] 0.542237898688527\n",
       "\\item[intercept] 0.00000454227785584571\n",
       "\\end{description*}\n"
      ],
      "text/markdown": [
       "ar1\n",
       ":   0.139913861399589ar2\n",
       ":   0.0595790532380613ar3\n",
       ":   0.390338236022075ar4\n",
       ":   0.180310250293923ma1\n",
       ":   0.00807606336115119ma2\n",
       ":   0.542237898688527intercept\n",
       ":   0.00000454227785584571\n",
       "\n"
      ],
      "text/plain": [
       "        ar1         ar2         ar3         ar4         ma1         ma2 \n",
       "0.139913861 0.059579053 0.390338236 0.180310250 0.008076063 0.542237899 \n",
       "  intercept \n",
       "0.000004542 "
      ]
     },
     "metadata": {},
     "output_type": "display_data"
    }
   ],
   "source": [
    "# ARIMA(1,1,0)\n",
    "print(\"ARIMA(1,1,0)\")\n",
    "x1 <- arima(d.Y, order = c(1,0,0))\n",
    "x1\n",
    "options(\"scipen\"=100, \"digits\"=4)\n",
    "(1-pnorm(abs(x1$coef)/sqrt(diag(x1$var.coef))))*2 \n",
    "\n",
    "# ARIMA(0,1,1)\n",
    "print(\"# ARIMA(0,1,1)\")\n",
    "x2 <- arima(d.Y, order = c(0,0,1))\n",
    "x2\n",
    "options(\"scipen\"=100, \"digits\"=4)\n",
    "(1-pnorm(abs(x2$coef)/sqrt(diag(x2$var.coef))))*2 \n",
    "\n",
    "# ARIMA(1,1,1)\n",
    "print(\"# ARIMA(1,1,1)\")\n",
    "x3 <- arima(d.Y, order = c(1,0,1))\n",
    "x3\n",
    "options(\"scipen\"=100, \"digits\"=4)\n",
    "(1-pnorm(abs(x3$coef)/sqrt(diag(x3$var.coef))))*2 \n",
    "\n",
    "# ARIMA(1,1,3)\n",
    "print(\"# ARIMA(1,1,2)\")\n",
    "x4 <- arima(d.Y, order = c(1,0,2))\n",
    "x4\n",
    "options(\"scipen\"=100, \"digits\"=4)\n",
    "(1-pnorm(abs(x4$coef)/sqrt(diag(x4$var.coef))))*2 \n",
    "\n",
    "# ARIMA(2,1,3)\n",
    "print(\"# ARIMA(2,1,3)\")\n",
    "x5 <- arima(d.Y, order = c(2,0,3))\n",
    "x5\n",
    "options(\"scipen\"=100, \"digits\"=4)\n",
    "(1-pnorm(abs(x5$coef)/sqrt(diag(x5$var.coef))))*2 \n",
    "\n",
    "# ARIMA(3,1,2)   THE BEST MODEL\n",
    "print(\"# ARIMA(3,1,2) THE BEST MODEL\")\n",
    "x6 <- arima(d.Y, order = c(3,0,2))\n",
    "x6\n",
    "options(\"scipen\"=100, \"digits\"=4)\n",
    "(1-pnorm(abs(x6$coef)/sqrt(diag(x6$var.coef))))*2 \n",
    "\n",
    "# ARIMA(p, 1, q) higher order p and q s do not show better fit. \n",
    "#The goal is to select a stationary and parsimonious model that has significant coefficients and a good fit.\n",
    "print(\"# ARIMA(p, 1, q)\")\n",
    "x7 <- arima(d.Y, order = c(4,0,2))\n",
    "x7\n",
    "options(\"scipen\"=100, \"digits\"=4)\n",
    "(1-pnorm(abs(x7$coef)/sqrt(diag(x7$var.coef))))*2 "
   ]
  },
  {
   "cell_type": "markdown",
   "metadata": {},
   "source": [
    "# 3. Diagnostic checking step\n",
    "\n",
    "                 If the model fits well, then the residuals from the model should resemble a while noise process.\n",
    "                            o Check for normality looking at a histogram of the residuals or by using a quantilequantile (Q-Q) plot.\n",
    "                            o Check for independence by examining the ACF and PACF of the residuals, which should look like a white noise.\n",
    "                            o The Ljung-Box-Pierce statistic performs a test of the magnitude of the autocorrelations of the correlations as a group.\n",
    "                            o Examine goodness of fit using the Akaike Information Criteria (AIC) and Bayesian Information Criteria (BIC). \n",
    "                                            Use most parsimonious model with lowest AIC and/or BIC."
   ]
  },
  {
   "cell_type": "markdown",
   "metadata": {},
   "source": [
    "## 3.1 Check for normality looking at a histogram of the residuals or by using a quantilequantile (Q-Q) plot."
   ]
  },
  {
   "cell_type": "markdown",
   "metadata": {},
   "source": [
    "## Plotting histogram of the residuals"
   ]
  },
  {
   "cell_type": "code",
   "execution_count": 17,
   "metadata": {
    "scrolled": true
   },
   "outputs": [
    {
     "data": {
      "image/png": "[encoded data removed]",
      "text/plain": [
       "Plot with title \"Histogram of x1$res\""
      ]
     },
     "metadata": {},
     "output_type": "display_data"
    },
    {
     "data": {
      "image/png": "[encoded data removed]",
      "text/plain": [
       "Plot with title \"Histogram of x2$res\""
      ]
     },
     "metadata": {},
     "output_type": "display_data"
    },
    {
     "data": {
      "image/png": "[encoded data removed]",
      "text/plain": [
       "Plot with title \"Histogram of x3$res\""
      ]
     },
     "metadata": {},
     "output_type": "display_data"
    },
    {
     "data": {
      "image/png": "[encoded data removed]",
      "text/plain": [
       "Plot with title \"Histogram of x4$res\""
      ]
     },
     "metadata": {},
     "output_type": "display_data"
    },
    {
     "data": {
      "image/png": "[encoded data removed]",
      "text/plain": [
       "Plot with title \"Histogram of x5$res\""
      ]
     },
     "metadata": {},
     "output_type": "display_data"
    },
    {
     "data": {
      "image/png": "[encoded data removed]",
      "text/plain": [
       "Plot with title \"Histogram of x6$res\""
      ]
     },
     "metadata": {},
     "output_type": "display_data"
    }
   ],
   "source": [
    "hist(x1$res) # ARIMA(1,1,0)  aic = 2784\n",
    "hist(x2$res) # ARIMA(0,1,1)  aic = 2804\n",
    "hist(x3$res) # ARIMA(1,1,1)  aic = 2783\n",
    "hist(x4$res) # ARIMA(1,1,3)  aic = 2784\n",
    "hist(x5$res) # ARIMA(2,1,3)  aic = 2783\n",
    "hist(x6$res) # ARIMA(3,1,2)  aic = 2778\n",
    "#hist(x7$res) # ARIMA(p,1,q)  "
   ]
  },
  {
   "cell_type": "markdown",
   "metadata": {},
   "source": [
    "## quantile-quantile (QQ) plot.\n",
    "\n",
    "A better graphical way in R to tell whether your data is distributed normally is to look at a so-called quantile-quantile (QQ) plot."
   ]
  },
  {
   "cell_type": "code",
   "execution_count": 18,
   "metadata": {
    "scrolled": true
   },
   "outputs": [
    {
     "data": {
      "text/html": [
       "<ol class=list-inline>\n",
       "\t<li>55</li>\n",
       "\t<li>56</li>\n",
       "</ol>\n"
      ],
      "text/latex": [
       "\\begin{enumerate*}\n",
       "\\item 55\n",
       "\\item 56\n",
       "\\end{enumerate*}\n"
      ],
      "text/markdown": [
       "1. 55\n",
       "2. 56\n",
       "\n",
       "\n"
      ],
      "text/plain": [
       "[1] 55 56"
      ]
     },
     "metadata": {},
     "output_type": "display_data"
    },
    {
     "data": {
      "image/png": "[encoded data removed]",
      "text/plain": [
       "plot without title"
      ]
     },
     "metadata": {},
     "output_type": "display_data"
    },
    {
     "data": {
      "text/html": [
       "<ol class=list-inline>\n",
       "\t<li>55</li>\n",
       "\t<li>56</li>\n",
       "</ol>\n"
      ],
      "text/latex": [
       "\\begin{enumerate*}\n",
       "\\item 55\n",
       "\\item 56\n",
       "\\end{enumerate*}\n"
      ],
      "text/markdown": [
       "1. 55\n",
       "2. 56\n",
       "\n",
       "\n"
      ],
      "text/plain": [
       "[1] 55 56"
      ]
     },
     "metadata": {},
     "output_type": "display_data"
    },
    {
     "data": {
      "image/png": "[encoded data removed]",
      "text/plain": [
       "plot without title"
      ]
     },
     "metadata": {},
     "output_type": "display_data"
    },
    {
     "data": {
      "text/html": [
       "<ol class=list-inline>\n",
       "\t<li>55</li>\n",
       "\t<li>56</li>\n",
       "</ol>\n"
      ],
      "text/latex": [
       "\\begin{enumerate*}\n",
       "\\item 55\n",
       "\\item 56\n",
       "\\end{enumerate*}\n"
      ],
      "text/markdown": [
       "1. 55\n",
       "2. 56\n",
       "\n",
       "\n"
      ],
      "text/plain": [
       "[1] 55 56"
      ]
     },
     "metadata": {},
     "output_type": "display_data"
    },
    {
     "data": {
      "image/png": "[encoded data removed]",
      "text/plain": [
       "plot without title"
      ]
     },
     "metadata": {},
     "output_type": "display_data"
    },
    {
     "data": {
      "text/html": [
       "<ol class=list-inline>\n",
       "\t<li>55</li>\n",
       "\t<li>56</li>\n",
       "</ol>\n"
      ],
      "text/latex": [
       "\\begin{enumerate*}\n",
       "\\item 55\n",
       "\\item 56\n",
       "\\end{enumerate*}\n"
      ],
      "text/markdown": [
       "1. 55\n",
       "2. 56\n",
       "\n",
       "\n"
      ],
      "text/plain": [
       "[1] 55 56"
      ]
     },
     "metadata": {},
     "output_type": "display_data"
    },
    {
     "data": {
      "image/png": "[encoded data removed]",
      "text/plain": [
       "plot without title"
      ]
     },
     "metadata": {},
     "output_type": "display_data"
    },
    {
     "data": {
      "text/html": [
       "<ol class=list-inline>\n",
       "\t<li>55</li>\n",
       "\t<li>56</li>\n",
       "</ol>\n"
      ],
      "text/latex": [
       "\\begin{enumerate*}\n",
       "\\item 55\n",
       "\\item 56\n",
       "\\end{enumerate*}\n"
      ],
      "text/markdown": [
       "1. 55\n",
       "2. 56\n",
       "\n",
       "\n"
      ],
      "text/plain": [
       "[1] 55 56"
      ]
     },
     "metadata": {},
     "output_type": "display_data"
    },
    {
     "data": {
      "image/png": "[encoded data removed]",
      "text/plain": [
       "plot without title"
      ]
     },
     "metadata": {},
     "output_type": "display_data"
    },
    {
     "data": {
      "text/html": [
       "<ol class=list-inline>\n",
       "\t<li>55</li>\n",
       "\t<li>56</li>\n",
       "</ol>\n"
      ],
      "text/latex": [
       "\\begin{enumerate*}\n",
       "\\item 55\n",
       "\\item 56\n",
       "\\end{enumerate*}\n"
      ],
      "text/markdown": [
       "1. 55\n",
       "2. 56\n",
       "\n",
       "\n"
      ],
      "text/plain": [
       "[1] 55 56"
      ]
     },
     "metadata": {},
     "output_type": "display_data"
    },
    {
     "data": {
      "image/png": "[encoded data removed]",
      "text/plain": [
       "plot without title"
      ]
     },
     "metadata": {},
     "output_type": "display_data"
    }
   ],
   "source": [
    "qqPlot(x1$res) # ARIMA(1,1,0)  aic = 2784\n",
    "qqPlot(x2$res) # ARIMA(0,1,1)  aic = 2804\n",
    "qqPlot(x3$res) # ARIMA(1,1,1)  aic = 2783\n",
    "qqPlot(x4$res) # ARIMA(1,1,3)  aic = 2784\n",
    "qqPlot(x5$res) # ARIMA(2,1,3)  aic = 2783\n",
    "qqPlot(x6$res) # ARIMA(2,1,3)  aic = 2778"
   ]
  },
  {
   "cell_type": "markdown",
   "metadata": {},
   "source": [
    "## 3.2 Check for independence by examining the ACF and PACF of the residuals, which should look like a white noise."
   ]
  },
  {
   "cell_type": "code",
   "execution_count": 19,
   "metadata": {
    "scrolled": true
   },
   "outputs": [
    {
     "data": {
      "image/png": "[encoded data removed]",
      "text/plain": [
       "Plot with title \"Series  x1$res\""
      ]
     },
     "metadata": {},
     "output_type": "display_data"
    },
    {
     "data": {
      "image/png": "[encoded data removed]",
      "text/plain": [
       "Plot with title \"Series  x1$res\""
      ]
     },
     "metadata": {},
     "output_type": "display_data"
    },
    {
     "data": {
      "image/png": "[encoded data removed]",
      "text/plain": [
       "Plot with title \"Series  x2$res\""
      ]
     },
     "metadata": {},
     "output_type": "display_data"
    },
    {
     "data": {
      "image/png": "[encoded data removed]",
      "text/plain": [
       "Plot with title \"Series  x2$res\""
      ]
     },
     "metadata": {},
     "output_type": "display_data"
    },
    {
     "data": {
      "image/png": "[encoded data removed]",
      "text/plain": [
       "Plot with title \"Series  x3$res\""
      ]
     },
     "metadata": {},
     "output_type": "display_data"
    },
    {
     "data": {
      "image/png": "[encoded data removed]",
      "text/plain": [
       "Plot with title \"Series  x3$res\""
      ]
     },
     "metadata": {},
     "output_type": "display_data"
    },
    {
     "data": {
      "image/png": "[encoded data removed]",
      "text/plain": [
       "Plot with title \"Series  x4$res\""
      ]
     },
     "metadata": {},
     "output_type": "display_data"
    },
    {
     "data": {
      "image/png": "[encoded data removed]",
      "text/plain": [
       "Plot with title \"Series  x4$res\""
      ]
     },
     "metadata": {},
     "output_type": "display_data"
    },
    {
     "data": {
      "image/png": "[encoded data removed]",
      "text/plain": [
       "Plot with title \"Series  x5$res\""
      ]
     },
     "metadata": {},
     "output_type": "display_data"
    },
    {
     "data": {
      "image/png": "[encoded data removed]",
      "text/plain": [
       "Plot with title \"Series  x5$res\""
      ]
     },
     "metadata": {},
     "output_type": "display_data"
    },
    {
     "data": {
      "image/png": "[encoded data removed]",
      "text/plain": [
       "Plot with title \"Series  x6$res\""
      ]
     },
     "metadata": {},
     "output_type": "display_data"
    },
    {
     "data": {
      "image/png": "[encoded data removed]",
      "text/plain": [
       "Plot with title \"Series  x6$res\""
      ]
     },
     "metadata": {},
     "output_type": "display_data"
    }
   ],
   "source": [
    "acf(x1$res)\n",
    "pacf(x1$res)\n",
    "acf(x2$res)\n",
    "pacf(x2$res)\n",
    "acf(x3$res)\n",
    "pacf(x3$res)\n",
    "acf(x4$res)\n",
    "pacf(x4$res)\n",
    "acf(x5$res)\n",
    "pacf(x5$res)\n",
    "acf(x6$res)\n",
    "pacf(x6$res)"
   ]
  },
  {
   "cell_type": "markdown",
   "metadata": {},
   "source": [
    "## 3.3 The Ljung-Box-Pierce statistic performs a test of the magnitude of the autocorrelations of the correlations as a group.\n",
    "\n",
    "Compute the Box–Pierce or Ljung–Box test statistic for examining the null hypothesis of independence in a given time series. These are sometimes known as ‘portmanteau’ tests.\n",
    "\n",
    "\n",
    "source: https://stat.ethz.ch/R-manual/R-devel/library/stats/html/box.test.html\n",
    "\n"
   ]
  },
  {
   "cell_type": "code",
   "execution_count": 20,
   "metadata": {
    "scrolled": true
   },
   "outputs": [
    {
     "data": {
      "text/plain": [
       "\n",
       "\tBox-Ljung test\n",
       "\n",
       "data:  x6$res\n",
       "X-squared = 0.74, df = 5, p-value = 1\n"
      ]
     },
     "metadata": {},
     "output_type": "display_data"
    },
    {
     "data": {
      "text/plain": [
       "\n",
       "\tBox-Ljung test\n",
       "\n",
       "data:  x6$res\n",
       "X-squared = 7.5, df = 10, p-value = 0.7\n"
      ]
     },
     "metadata": {},
     "output_type": "display_data"
    },
    {
     "data": {
      "text/plain": [
       "\n",
       "\tBox-Ljung test\n",
       "\n",
       "data:  x6$res\n",
       "X-squared = 9.2, df = 15, p-value = 0.9\n"
      ]
     },
     "metadata": {},
     "output_type": "display_data"
    }
   ],
   "source": [
    "Box.test(x6$res, type = \"Ljung-Box\", lag = 5) # ARIMA(3,1,2)  aic = 2778\n",
    "Box.test(x6$res, type = \"Ljung-Box\", lag = 10)\n",
    "Box.test(x6$res, type = \"Ljung-Box\", lag = 15)"
   ]
  },
  {
   "cell_type": "markdown",
   "metadata": {},
   "source": [
    "Using the Box Ljung test, we cannot reject the null hypothesis."
   ]
  },
  {
   "cell_type": "code",
   "execution_count": 21,
   "metadata": {},
   "outputs": [
    {
     "data": {
      "text/plain": [
       "\n",
       "\tBox-Ljung test\n",
       "\n",
       "data:  x1$res\n",
       "X-squared = 7.3, df = 5, p-value = 0.2\n"
      ]
     },
     "metadata": {},
     "output_type": "display_data"
    },
    {
     "data": {
      "text/plain": [
       "\n",
       "\tBox-Ljung test\n",
       "\n",
       "data:  x1$res\n",
       "X-squared = 17, df = 10, p-value = 0.08\n"
      ]
     },
     "metadata": {},
     "output_type": "display_data"
    },
    {
     "data": {
      "text/plain": [
       "\n",
       "\tBox-Ljung test\n",
       "\n",
       "data:  x1$res\n",
       "X-squared = 19, df = 15, p-value = 0.2\n"
      ]
     },
     "metadata": {},
     "output_type": "display_data"
    },
    {
     "data": {
      "text/plain": [
       "\n",
       "\tBox-Ljung test\n",
       "\n",
       "data:  x2$res\n",
       "X-squared = 17, df = 5, p-value = 0.004\n"
      ]
     },
     "metadata": {},
     "output_type": "display_data"
    },
    {
     "data": {
      "text/plain": [
       "\n",
       "\tBox-Ljung test\n",
       "\n",
       "data:  x2$res\n",
       "X-squared = 28, df = 10, p-value = 0.002\n"
      ]
     },
     "metadata": {},
     "output_type": "display_data"
    },
    {
     "data": {
      "text/plain": [
       "\n",
       "\tBox-Ljung test\n",
       "\n",
       "data:  x2$res\n",
       "X-squared = 30, df = 15, p-value = 0.01\n"
      ]
     },
     "metadata": {},
     "output_type": "display_data"
    },
    {
     "data": {
      "text/plain": [
       "\n",
       "\tBox-Ljung test\n",
       "\n",
       "data:  x3$res\n",
       "X-squared = 4.8, df = 5, p-value = 0.4\n"
      ]
     },
     "metadata": {},
     "output_type": "display_data"
    },
    {
     "data": {
      "text/plain": [
       "\n",
       "\tBox-Ljung test\n",
       "\n",
       "data:  x3$res\n",
       "X-squared = 13, df = 10, p-value = 0.2\n"
      ]
     },
     "metadata": {},
     "output_type": "display_data"
    },
    {
     "data": {
      "text/plain": [
       "\n",
       "\tBox-Ljung test\n",
       "\n",
       "data:  x3$res\n",
       "X-squared = 16, df = 15, p-value = 0.4\n"
      ]
     },
     "metadata": {},
     "output_type": "display_data"
    },
    {
     "data": {
      "text/plain": [
       "\n",
       "\tBox-Ljung test\n",
       "\n",
       "data:  x4$res\n",
       "X-squared = 0.89, df = 5, p-value = 1\n"
      ]
     },
     "metadata": {},
     "output_type": "display_data"
    },
    {
     "data": {
      "text/plain": [
       "\n",
       "\tBox-Ljung test\n",
       "\n",
       "data:  x4$res\n",
       "X-squared = 7.4, df = 10, p-value = 0.7\n"
      ]
     },
     "metadata": {},
     "output_type": "display_data"
    },
    {
     "data": {
      "text/plain": [
       "\n",
       "\tBox-Ljung test\n",
       "\n",
       "data:  x4$res\n",
       "X-squared = 10, df = 15, p-value = 0.8\n"
      ]
     },
     "metadata": {},
     "output_type": "display_data"
    },
    {
     "data": {
      "text/plain": [
       "\n",
       "\tBox-Ljung test\n",
       "\n",
       "data:  x5$res\n",
       "X-squared = 0.3, df = 5, p-value = 1\n"
      ]
     },
     "metadata": {},
     "output_type": "display_data"
    },
    {
     "data": {
      "text/plain": [
       "\n",
       "\tBox-Ljung test\n",
       "\n",
       "data:  x5$res\n",
       "X-squared = 4.7, df = 10, p-value = 0.9\n"
      ]
     },
     "metadata": {},
     "output_type": "display_data"
    },
    {
     "data": {
      "text/plain": [
       "\n",
       "\tBox-Ljung test\n",
       "\n",
       "data:  x5$res\n",
       "X-squared = 8, df = 15, p-value = 0.9\n"
      ]
     },
     "metadata": {},
     "output_type": "display_data"
    }
   ],
   "source": [
    "Box.test(x1$res, type = \"Ljung-Box\", lag = 5)  # ARIMA(1,1,0)  aic = 2784\n",
    "Box.test(x1$res, type = \"Ljung-Box\", lag = 10) \n",
    "Box.test(x1$res, type = \"Ljung-Box\", lag = 15)\n",
    "\n",
    "Box.test(x2$res, type = \"Ljung-Box\", lag = 5)  # ARIMA(0,1,1)  aic = 2804\n",
    "Box.test(x2$res, type = \"Ljung-Box\", lag = 10)\n",
    "Box.test(x2$res, type = \"Ljung-Box\", lag = 15)\n",
    "\n",
    "Box.test(x3$res, type = \"Ljung-Box\", lag = 5) # ARIMA(1,1,1)  aic = 2783\n",
    "Box.test(x3$res, type = \"Ljung-Box\", lag = 10)\n",
    "Box.test(x3$res, type = \"Ljung-Box\", lag = 15)\n",
    "\n",
    "Box.test(x4$res, type = \"Ljung-Box\", lag = 5) # ARIMA(1,1,3)  aic = 2784\n",
    "Box.test(x4$res, type = \"Ljung-Box\", lag = 10) \n",
    "Box.test(x4$res, type = \"Ljung-Box\", lag = 15)\n",
    "\n",
    "Box.test(x5$res, type = \"Ljung-Box\", lag = 5) # ARIMA(2,1,3)  aic = 2783\n",
    "Box.test(x5$res, type = \"Ljung-Box\", lag = 10)\n",
    "Box.test(x5$res, type = \"Ljung-Box\", lag = 15)"
   ]
  },
  {
   "cell_type": "markdown",
   "metadata": {},
   "source": [
    "## 3.4 Examine goodness of fit using the Akaike Information Criteria (AIC) and Bayesian Information Criteria (BIC). Use most parsimonious model with lowest AIC and/or BIC"
   ]
  },
  {
   "cell_type": "markdown",
   "metadata": {},
   "source": [
    "#### x1  # ARIMA(1,1,0)   aic = 2784\n",
    "#### x2  # ARIMA(0,1,1)   aic = 2804\n",
    "#### x3  # ARIMA(1,1,1)   aic = 2783\n",
    "#### x4  # ARIMA(1,1,3)   aic = 2784\n",
    "#### x5  # ARIMA(2,1,3)   aic = 2783\n",
    "#### x6  # ARIMA(3,1,2)   aic = 2778\n",
    "\n",
    "\n",
    "\n",
    "## Best Model :  ARIMA(3,1,2)   aic = 2778"
   ]
  }
 ],
 "metadata": {
  "kernelspec": {
   "display_name": "R",
   "language": "R",
   "name": "ir"
  },
  "language_info": {
   "codemirror_mode": "r",
   "file_extension": ".r",
   "mimetype": "text/x-r-source",
   "name": "R",
   "pygments_lexer": "r",
   "version": "3.6.1"
  }
 },
 "nbformat": 4,
 "nbformat_minor": 2
}
