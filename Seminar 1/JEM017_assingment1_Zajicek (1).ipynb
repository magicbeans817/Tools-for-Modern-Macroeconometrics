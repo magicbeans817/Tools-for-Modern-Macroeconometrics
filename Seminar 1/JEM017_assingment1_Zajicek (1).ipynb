{
 "cells": [
  {
   "cell_type": "markdown",
   "metadata": {},
   "source": [
    "**JEM017 assignment 1:**\n",
    "1)  \n",
    "**a) Generate an AR(1) and ARMA(1,1) process. Do not use predefined functions. Estimate both the processes**\n"
   ]
  },
  {
   "cell_type": "code",
   "execution_count": null,
   "metadata": {},
   "outputs": [],
   "source": [
    "if (!require(forecast)) install.packages(\"forecast\")\n",
    "if (!require(forecast)) install.packages(\"uroot\")\n",
    "\n",
    "library(stats)\n",
    "library(repr)\n",
    "library(tseries)\n",
    "library(readr)\n",
    "library(forecast)\n",
    "library(uroot)\n",
    "\n",
    "options(repr.plot.width = 10, repr.plot.height = 4)\n"
   ]
  },
  {
   "cell_type": "code",
   "execution_count": null,
   "metadata": {},
   "outputs": [],
   "source": [
    "#AR(1) process\n",
    "set.seed(7257)                                                  #setting seed for replicability\n",
    "l <- 500                                                        #number of observations\n",
    "e <- rnorm(l)                                                   #white noise process\n",
    "yt <- vector()                                                  #create blanc vector to store values of yt for t=1,...,l\n",
    "phi1 <- 0.9                                                     #set value of coefficient phi 1                                                    \n",
    "yt[1] <- 0                                                      #set value of yt for t=1\n",
    "yt[2] <- phi1 * e[1]                                            #set value of yt for t=2\n",
    "for (i in 3 : l){                                               #loop to fill in yt data for 2<t<l\n",
    "    yt[i] <- phi1 * yt[i - 1] + e[i]\n",
    "}\n",
    "plot.ts(yt, ylab = NA)                                          #plot the yt-s "
   ]
  },
  {
   "cell_type": "markdown",
   "metadata": {},
   "source": [
    " ARMA(1,1) process\n",
    " "
   ]
  },
  {
   "cell_type": "code",
   "execution_count": null,
   "metadata": {},
   "outputs": [],
   "source": [
    "set.seed(8087)                                                  #setting seed for replicability\n",
    "l <- 500                                                        #number of observations\n",
    "e <- rnorm(l)                                                   #white noise process\n",
    "yt <- vector()                                                  #create blanc vector to store values of yt for t=1,...,l\n",
    "phi <- 0.9                                                      #set value of coefficient phi                                                     \n",
    "theta <- 0.2                                                    #set value of coefficient theta\n",
    "yt[1] <- 0                                                      #set value of yt for t=1\n",
    "yt[2] <- phi * e[1]                                             #set value of yt for t=2\n",
    "for (i in 3 : l){                                               #loop to fill in yt data for 2<t<l\n",
    "    yt[i] <- phi * yt[i - 1] + e[i] - theta * e[i-1]\n",
    "}\n",
    "plot.ts(yt, ylab = NA)                                          #plot the yt-s \n"
   ]
  },
  {
   "cell_type": "markdown",
   "metadata": {},
   "source": [
    "**b) Choose one real time series and estimate the best linear model (AR, MA, ARMA, ARMIA) that fits the time series.**\n"
   ]
  },
  {
   "cell_type": "code",
   "execution_count": null,
   "metadata": {},
   "outputs": [],
   "source": [
    "data <- read.csv(\"AAPL.csv\")                                    #load Apple stock data\n",
    "opening <- data[,2]                                             #assign the opening prices\n",
    "dopening <- diff(opening, lag = 1)                              #take first differences\n",
    "par(mfrow = c(1, 2))                                            #make graphs show in pairs\n",
    "\n",
    "plot.ts(opening, ylab = NA, main = 'opening', cex.main = 0.8)   #plot the original opening prices as time series\n",
    "plot.ts(dopening, ylab = NA, main = 'dopening', cex.main = 0.8) #plot the first differences of opening prices as time series\n",
    "\n",
    "adf.test(opening)                                               #confirm stacionarity with a test\n",
    "adf.test(dopening)                                              #confirm stacionarity with a test\n",
    "\n"
   ]
  },
  {
   "cell_type": "code",
   "execution_count": null,
   "metadata": {},
   "outputs": [],
   "source": [
    "kpss.test(opening)                                               #confirm stacionarity with a test (double-checking because of suspicious rising trend of variance)\n",
    "kpss.test(dopening)                                              #confirm stacionarity with a test (double-checking because of suspicious rising trend of variance)"
   ]
  },
  {
   "cell_type": "markdown",
   "metadata": {},
   "source": [
    "**Plotting ACF and PACF to help with estimation of model.**"
   ]
  },
  {
   "cell_type": "code",
   "execution_count": null,
   "metadata": {},
   "outputs": [],
   "source": [
    "acf(dopening)\n",
    "pacf(dopening)"
   ]
  },
  {
   "cell_type": "code",
   "execution_count": null,
   "metadata": {},
   "outputs": [],
   "source": [
    "y_model <- Arima(dopening, order = c(1, 0, 0))\n",
    "summary(y_model)"
   ]
  },
  {
   "cell_type": "code",
   "execution_count": null,
   "metadata": {},
   "outputs": [],
   "source": [
    "y_model1 <- Arima(dopening, order = c(0, 0, 2))\n",
    "summary(y_model1)"
   ]
  },
  {
   "cell_type": "code",
   "execution_count": null,
   "metadata": {},
   "outputs": [],
   "source": [
    "y_model2 <- auto.arima(dopening)\n",
    "summary(y_model2)"
   ]
  },
  {
   "cell_type": "code",
   "execution_count": null,
   "metadata": {},
   "outputs": [],
   "source": [
    "y_model3 <- auto.arima(dopening, approximation=FALSE, stepwise =FALSE )\n",
    "summary(y_model3)"
   ]
  },
  {
   "cell_type": "markdown",
   "metadata": {},
   "source": [
    "**Lowest AICc in y_model3, ARIMA(0,0,2) with non-zero mean** \n"
   ]
  },
  {
   "cell_type": "code",
   "execution_count": null,
   "metadata": {},
   "outputs": [],
   "source": [
    "acf(y_model3$residuals, main = NA)                    #plotting the residuals in ACF and PACF to check whether the residuals show WN behavior\n",
    "pacf(y_model3$residuals, main = NA)"
   ]
  },
  {
   "cell_type": "markdown",
   "metadata": {},
   "source": [
    "***They do show WN behavior, using Ljung-Box test to check for lack of fit\"***"
   ]
  },
  {
   "cell_type": "code",
   "execution_count": null,
   "metadata": {},
   "outputs": [],
   "source": [
    "Box.test(y_model3$residuals, type = \"Ljung-Box\", lag = 4)\n",
    "Box.test(y_model3$residuals, type = \"Ljung-Box\", lag = 8)\n",
    "Box.test(y_model3$residuals, type = \"Ljung-Box\", lag = 12)\n",
    "plot.ts(dopening, ylab = NA, main = 'fitted values')\n",
    "lines(y_model3$fitted, col = 'red')"
   ]
  },
  {
   "cell_type": "markdown",
   "metadata": {},
   "source": [
    "***High p-values don't indicate lack of fit.***"
   ]
  },
  {
   "cell_type": "code",
   "execution_count": null,
   "metadata": {},
   "outputs": [],
   "source": []
  },
  {
   "cell_type": "code",
   "execution_count": null,
   "metadata": {},
   "outputs": [],
   "source": []
  },
  {
   "cell_type": "code",
   "execution_count": null,
   "metadata": {},
   "outputs": [],
   "source": []
  },
  {
   "cell_type": "code",
   "execution_count": null,
   "metadata": {},
   "outputs": [],
   "source": []
  }
 ],
 "metadata": {
  "kernelspec": {
   "display_name": "R",
   "language": "R",
   "name": "ir"
  },
  "language_info": {
   "codemirror_mode": "r",
   "file_extension": ".r",
   "mimetype": "text/x-r-source",
   "name": "R",
   "pygments_lexer": "r",
   "version": "3.6.1"
  }
 },
 "nbformat": 4,
 "nbformat_minor": 4
}
