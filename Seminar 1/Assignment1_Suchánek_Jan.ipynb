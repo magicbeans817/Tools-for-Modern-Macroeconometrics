{
 "cells": [
  {
   "cell_type": "markdown",
   "id": "43f51fbf",
   "metadata": {},
   "source": [
    "# Jan Suchánek\n",
    "## 1)  a) Generate an AR(1) and ARMA(1,1) process. Do not use predefined functions. Estimate both the processes"
   ]
  },
  {
   "cell_type": "code",
   "execution_count": 1,
   "id": "b48ad235",
   "metadata": {},
   "outputs": [
    {
     "name": "stderr",
     "output_type": "stream",
     "text": [
      "Loading required package: forecast\n",
      "Warning message:\n",
      "\"package 'forecast' was built under R version 3.6.3\"Registered S3 methods overwritten by 'ggplot2':\n",
      "  method         from \n",
      "  [.quosures     rlang\n",
      "  c.quosures     rlang\n",
      "  print.quosures rlang\n",
      "Registered S3 method overwritten by 'xts':\n",
      "  method     from\n",
      "  as.zoo.xts zoo \n",
      "Registered S3 method overwritten by 'quantmod':\n",
      "  method            from\n",
      "  as.zoo.data.frame zoo \n",
      "Loading required package: uroot\n",
      "Warning message:\n",
      "\"package 'uroot' was built under R version 3.6.3\"Warning message:\n",
      "\"package 'tseries' was built under R version 3.6.3\"\n",
      "Attaching package: 'dplyr'\n",
      "\n",
      "The following objects are masked from 'package:stats':\n",
      "\n",
      "    filter, lag\n",
      "\n",
      "The following objects are masked from 'package:base':\n",
      "\n",
      "    intersect, setdiff, setequal, union\n",
      "\n"
     ]
    }
   ],
   "source": [
    "if (!require(forecast)) install.packages(\"forecast\")\n",
    "if (!require(uroot)) install.packages(\"uroot\")\n",
    "library(stats)\n",
    "library(repr) \n",
    "library(tseries)\n",
    "library(readr)\n",
    "library(forecast)\n",
    "library(uroot)\n",
    "library(dplyr)\n",
    "\n",
    "options(repr.plot.width = 10, repr.plot.height = 4)"
   ]
  },
  {
   "cell_type": "markdown",
   "id": "8a912899",
   "metadata": {},
   "source": [
    "### AR(1) process"
   ]
  },
  {
   "cell_type": "code",
   "execution_count": 2,
   "id": "7f09bcb6",
   "metadata": {
    "scrolled": true
   },
   "outputs": [
    {
     "data": {
      "text/plain": [
       "\n",
       "Call:\n",
       "arima(x = y, order = c(1, 0, 0))\n",
       "\n",
       "Coefficients:\n",
       "         ar1  intercept\n",
       "      0.7458     0.0981\n",
       "s.e.  0.0298     0.1748\n",
       "\n",
       "sigma^2 estimated as 0.9992:  log likelihood = -709.69,  aic = 1425.37"
      ]
     },
     "metadata": {},
     "output_type": "display_data"
    },
    {
     "data": {
      "image/png": "[encoded data removed]",
      "text/plain": [
       "plot without title"
      ]
     },
     "metadata": {},
     "output_type": "display_data"
    }
   ],
   "source": [
    "set.seed(69420)                                                        # first set seed for replicability\n",
    "n <- 500                                                               # number of observations\n",
    "e <- rnorm(n)                                                          # error terms\n",
    "y <- vector()                                                          # blank vector to store values of explained variable\n",
    "phi_1 <- 0.75                                                          # set value of parameter\n",
    "\n",
    "y[1] <- 0                                                              # set value of explained variable in first period\n",
    "\n",
    "for (i in 2:n){\n",
    "    y[i] <- phi_1 * y[i-1] + e[i]                                      # create the rest of eplained variable\n",
    "}\n",
    "\n",
    "plot.ts(y, ylab = NA)                                                  # graphical visualization\n",
    "\n",
    "ARmodel = arima(y, order = c(1,0,0))                                   # estimate the process\n",
    "ARmodel  "
   ]
  },
  {
   "cell_type": "markdown",
   "id": "52a1be5b",
   "metadata": {},
   "source": [
    "From the estimation, it can be seen that value of intercept is statistically insignificant. That is good, as no intercept was involved in the creation of explained variable. In addition, value of the parameter is estimated quite precisely and highly statistically significant."
   ]
  },
  {
   "cell_type": "markdown",
   "id": "12c82f74",
   "metadata": {},
   "source": [
    "### ARMA(1,1) process"
   ]
  },
  {
   "cell_type": "code",
   "execution_count": 3,
   "id": "188e3d7b",
   "metadata": {},
   "outputs": [
    {
     "data": {
      "text/plain": [
       "\n",
       "Call:\n",
       "arima(x = y, order = c(1, 0, 1))\n",
       "\n",
       "Coefficients:\n",
       "         ar1     ma1  intercept\n",
       "      0.7489  0.8944     0.1787\n",
       "s.e.  0.0302  0.0228     0.3337\n",
       "\n",
       "sigma^2 estimated as 0.9914:  log likelihood = -709.05,  aic = 1426.09"
      ]
     },
     "metadata": {},
     "output_type": "display_data"
    },
    {
     "data": {
      "image/png": "[encoded data removed]",
      "text/plain": [
       "plot without title"
      ]
     },
     "metadata": {},
     "output_type": "display_data"
    }
   ],
   "source": [
    "set.seed(69420)\n",
    "n <- 500                                                               # number of observations\n",
    "e <- rnorm(n)  \n",
    "y <- vector()                                                          # empty vector for the explained variable\n",
    "phi_1 <- 0.75                                                          # set value of AR parameter\n",
    "theta_1 <- 0.9                                                         # set value of MA parameter\n",
    "\n",
    "y[1] <- 0\n",
    "\n",
    "for (i in 2:n){\n",
    "    y[i] <- phi_1 * y[i - 1] + theta_1 * e[i - 1] + e[i]\n",
    "}\n",
    "\n",
    "\n",
    "options(repr.plot.width = 10, repr.plot.height = 4)\n",
    "plot.ts(y, ylab = NA)\n",
    "\n",
    "ARmodel = arima(y, order = c(1,0,1))                                   # estimate the process\n",
    "ARmodel  "
   ]
  },
  {
   "cell_type": "markdown",
   "id": "302a5ec3",
   "metadata": {},
   "source": [
    "Again, estimation is quite precise. Estimated values of coefficients are statistically significant and close to their real value and estimated value of intercept is statistically insignificant."
   ]
  },
  {
   "cell_type": "markdown",
   "id": "8c7ef671",
   "metadata": {},
   "source": [
    "## 1) b) Choose one real time series and estimate the best linear model (AR, MA, ARMA, ARMIA) that fits the time series.\n",
    "\n",
    "I choose data for number of sales of shampoo during a 3-year period. I will begin by checking and plotting the data."
   ]
  },
  {
   "cell_type": "code",
   "execution_count": 4,
   "id": "72817790",
   "metadata": {},
   "outputs": [
    {
     "name": "stdout",
     "output_type": "stream",
     "text": [
      "Observations: 36\n",
      "Variables: 2\n",
      "$ Month <fct> 1-01, 1-02, 1-03, 1-04, 1-05, 1-06, 1-07, 1-08, 1-09, 1-10, 1...\n",
      "$ Sales <dbl> 266.0, 145.9, 183.1, 119.3, 180.3, 168.5, 231.8, 224.5, 192.8...\n"
     ]
    },
    {
     "data": {
      "image/png": "[encoded data removed]",
      "text/plain": [
       "plot without title"
      ]
     },
     "metadata": {},
     "output_type": "display_data"
    }
   ],
   "source": [
    "data <- read.csv(\"https://raw.githubusercontent.com/jbrownlee/Datasets/master/shampoo.csv\")\n",
    "\n",
    "data %>% glimpse\n",
    "\n",
    "plot.ts(data$Sales, ylab = NA)  # graphical representation of the data"
   ]
  },
  {
   "cell_type": "markdown",
   "id": "8ed7b8af",
   "metadata": {},
   "source": [
    "### Identification\n",
    "\n",
    "Now I will continue by applying Augmented Dickey-Fuller Test in order to gain idea whether the data are stationary or not."
   ]
  },
  {
   "cell_type": "code",
   "execution_count": 5,
   "id": "f9b24c3b",
   "metadata": {},
   "outputs": [
    {
     "data": {
      "text/plain": [
       "\n",
       "\tAugmented Dickey-Fuller Test\n",
       "\n",
       "data:  data$Sales\n",
       "Dickey-Fuller = -0.93943, Lag order = 3, p-value = 0.9332\n",
       "alternative hypothesis: stationary\n"
      ]
     },
     "metadata": {},
     "output_type": "display_data"
    }
   ],
   "source": [
    "adf.test(data$Sales)"
   ]
  },
  {
   "cell_type": "markdown",
   "id": "8e19ebab",
   "metadata": {},
   "source": [
    "According to result of the test, I do not have enough evidence to consider the data as stationary. Thus, I will differentiate the data and apply Augmented Dickey-Fuller test again."
   ]
  },
  {
   "cell_type": "code",
   "execution_count": 6,
   "id": "2ea3aa94",
   "metadata": {},
   "outputs": [
    {
     "name": "stderr",
     "output_type": "stream",
     "text": [
      "Warning message in adf.test(data_d):\n",
      "\"p-value smaller than printed p-value\""
     ]
    },
    {
     "data": {
      "text/plain": [
       "\n",
       "\tAugmented Dickey-Fuller Test\n",
       "\n",
       "data:  data_d\n",
       "Dickey-Fuller = -5.9245, Lag order = 3, p-value = 0.01\n",
       "alternative hypothesis: stationary\n"
      ]
     },
     "metadata": {},
     "output_type": "display_data"
    },
    {
     "data": {
      "image/png": "[encoded data removed]",
      "text/plain": [
       "plot without title"
      ]
     },
     "metadata": {},
     "output_type": "display_data"
    }
   ],
   "source": [
    "data_d <- diff(data$Sales)\n",
    "plot.ts(data_d, ylab = NA)\n",
    "adf.test(data_d)"
   ]
  },
  {
   "cell_type": "markdown",
   "id": "1b45765a",
   "metadata": {},
   "source": [
    "Hence now I have enough evidence to assume that differentiated data are stationary. Now I will plot ACF and PACF to help me with estimation of the model:"
   ]
  },
  {
   "cell_type": "code",
   "execution_count": 7,
   "id": "471749e0",
   "metadata": {},
   "outputs": [
    {
     "data": {
      "image/png": "[encoded data removed]",
      "text/plain": [
       "Plot with title \"Series  data_d\""
      ]
     },
     "metadata": {},
     "output_type": "display_data"
    }
   ],
   "source": [
    "par(mfrow = c(1, 2))\n",
    "acf(data_d)\n",
    "pacf(data_d)"
   ]
  },
  {
   "cell_type": "markdown",
   "id": "7cee5d7e",
   "metadata": {},
   "source": [
    "Now I will try several models which I believe could fit the data well."
   ]
  },
  {
   "cell_type": "code",
   "execution_count": 8,
   "id": "300ad5a9",
   "metadata": {},
   "outputs": [
    {
     "name": "stdout",
     "output_type": "stream",
     "text": [
      "Series: data_d \n",
      "ARIMA(1,0,0) with non-zero mean \n",
      "\n",
      "Coefficients:\n",
      "          ar1     mean\n",
      "      -0.7364  11.8300\n",
      "s.e.   0.1116   7.1516\n",
      "\n",
      "sigma^2 estimated as 5585:  log likelihood=-200.01\n",
      "AIC=406.02   AICc=406.8   BIC=410.69\n",
      "\n",
      "Training set error measures:\n",
      "                    ME     RMSE      MAE       MPE     MAPE      MASE\n",
      "Training set -1.556565 72.56623 59.01864 -58.82257 156.6464 0.3591548\n",
      "                   ACF1\n",
      "Training set -0.2152692\n",
      "Series: data_d \n",
      "ARIMA(2,0,0) with non-zero mean \n",
      "\n",
      "Coefficients:\n",
      "          ar1      ar2     mean\n",
      "      -1.0223  -0.3655  11.6504\n",
      "s.e.   0.1674   0.1670   4.9068\n",
      "\n",
      "sigma^2 estimated as 5033:  log likelihood=-197.81\n",
      "AIC=403.63   AICc=404.96   BIC=409.85\n",
      "\n",
      "Training set error measures:\n",
      "                    ME     RMSE     MAE      MPE     MAPE      MASE        ACF1\n",
      "Training set -2.341212 67.83259 53.4725 2.638793 115.9805 0.3254041 -0.02139789\n",
      "Series: data_d \n",
      "ARIMA(3,0,0) with non-zero mean \n",
      "\n",
      "Coefficients:\n",
      "          ar1      ar2      ar3     mean\n",
      "      -1.0827  -0.5481  -0.1837  11.9922\n",
      "s.e.   0.1768   0.2489   0.1880   4.1429\n",
      "\n",
      "sigma^2 estimated as 5045:  log likelihood=-197.35\n",
      "AIC=404.69   AICc=406.76   BIC=412.47\n",
      "\n",
      "Training set error measures:\n",
      "                    ME     RMSE     MAE      MPE     MAPE      MASE        ACF1\n",
      "Training set -3.098443 66.84753 53.1544 6.030435 123.5574 0.3234683 0.007275171\n",
      "Series: data_d \n",
      "ARIMA(0,0,1) with non-zero mean \n",
      "\n",
      "Coefficients:\n",
      "          ma1     mean\n",
      "      -0.7494  12.0657\n",
      "s.e.   0.0984   3.5212\n",
      "\n",
      "sigma^2 estimated as 6076:  log likelihood=-201.51\n",
      "AIC=409.01   AICc=409.79   BIC=413.68\n",
      "\n",
      "Training set error measures:\n",
      "                    ME     RMSE      MAE      MPE     MAPE     MASE       ACF1\n",
      "Training set -5.676233 75.68679 61.27373 55.98358 107.2679 0.372878 -0.3116363\n",
      "Series: data_d \n",
      "ARIMA(0,0,2) with non-zero mean \n",
      "\n",
      "Coefficients:\n",
      "          ma1     ma2    mean\n",
      "      -1.3226  1.0000  9.4606\n",
      "s.e.   0.2354  0.3237  6.6106\n",
      "\n",
      "sigma^2 estimated as 3854:  log likelihood=-195.8\n",
      "AIC=399.59   AICc=400.93   BIC=405.81\n",
      "\n",
      "Training set error measures:\n",
      "                    ME     RMSE      MAE      MPE     MAPE      MASE       ACF1\n",
      "Training set 0.5206318 59.36395 47.84131 54.14646 155.5801 0.2911358 0.07044932\n",
      "Series: data_d \n",
      "ARIMA(0,0,3) with non-zero mean \n",
      "\n",
      "Coefficients:\n",
      "          ma1     ma2     ma3     mean\n",
      "      -1.2903  0.8301  0.0615  10.2414\n",
      "s.e.   0.2792  0.2812  0.2700   6.2749\n",
      "\n",
      "sigma^2 estimated as 4233:  log likelihood=-195.77\n",
      "AIC=401.54   AICc=403.61   BIC=409.32\n",
      "\n",
      "Training set error measures:\n",
      "                     ME     RMSE      MAE      MPE     MAPE      MASE\n",
      "Training set 0.07070459 61.23405 49.41147 32.20962 146.5097 0.3006909\n",
      "                   ACF1\n",
      "Training set 0.07810845\n"
     ]
    }
   ],
   "source": [
    "model100 <- Arima(data_d, order = c(1, 0, 0))\n",
    "summary(model100)\n",
    "\n",
    "model200 <- Arima(data_d, order = c(2, 0, 0))\n",
    "summary(model200)\n",
    "\n",
    "model300 <- Arima(data_d, order = c(3, 0, 0))\n",
    "summary(model300)\n",
    "\n",
    "model001 <- Arima(data_d, order = c(0, 0, 1))\n",
    "summary(model001)\n",
    "\n",
    "model002 <- Arima(data_d, order = c(0, 0, 2))\n",
    "summary(model002)\n",
    "\n",
    "model003 <- Arima(data_d, order = c(0, 0, 3))\n",
    "summary(model003)"
   ]
  },
  {
   "cell_type": "markdown",
   "id": "1f0c07e8",
   "metadata": {},
   "source": [
    "According to AICc and BIC, best candidate seem to be ARIMA(0,0,2) and ARIMA(0,0,3). As I lack deep understanding of trade-off between AICc and BIC, I will now use Auto Arima to help me choose the best model."
   ]
  },
  {
   "cell_type": "code",
   "execution_count": 9,
   "id": "c9453252",
   "metadata": {},
   "outputs": [
    {
     "name": "stdout",
     "output_type": "stream",
     "text": [
      "Series: data_d \n",
      "ARIMA(0,0,3) with non-zero mean \n",
      "\n",
      "Coefficients:\n",
      "          ma1     ma2     ma3     mean\n",
      "      -1.2903  0.8301  0.0615  10.2414\n",
      "s.e.   0.2792  0.2812  0.2700   6.2749\n",
      "\n",
      "sigma^2 estimated as 4233:  log likelihood=-195.77\n",
      "AIC=401.54   AICc=403.61   BIC=409.32\n",
      "\n",
      "Training set error measures:\n",
      "                     ME     RMSE      MAE      MPE     MAPE      MASE\n",
      "Training set 0.07070459 61.23405 49.41147 32.20962 146.5097 0.3006909\n",
      "                   ACF1\n",
      "Training set 0.07810845\n"
     ]
    }
   ],
   "source": [
    "model_auto <- auto.arima(data_d, approximation = FALSE, stepwise = FALSE)\n",
    "summary(model_auto)"
   ]
  },
  {
   "cell_type": "markdown",
   "id": "06ddab2b",
   "metadata": {},
   "source": [
    "It seems that ARIMA(0,0,3) was chosen, hence I consider it my final model. Now I will plot ACF and PACF of residuals of the model to see whether they look like White Noise or not."
   ]
  },
  {
   "cell_type": "code",
   "execution_count": 10,
   "id": "e4a46ee9",
   "metadata": {},
   "outputs": [
    {
     "data": {
      "image/png": "[encoded data removed]",
      "text/plain": [
       "Plot with title \"NA\""
      ]
     },
     "metadata": {},
     "output_type": "display_data"
    }
   ],
   "source": [
    "par(mfrow = c(1, 2))\n",
    "acf(model_auto$residuals, main = NA)\n",
    "pacf(model_auto$residuals, main = NA)"
   ]
  },
  {
   "cell_type": "markdown",
   "id": "76912482",
   "metadata": {},
   "source": [
    "They do seem like a White Noise. Next, I will apply Ljung-Box test to check for lack of fit."
   ]
  },
  {
   "cell_type": "code",
   "execution_count": 11,
   "id": "22638dce",
   "metadata": {},
   "outputs": [
    {
     "data": {
      "text/plain": [
       "\n",
       "\tBox-Ljung test\n",
       "\n",
       "data:  model_auto$residuals\n",
       "X-squared = 2.4815, df = 4, p-value = 0.6479\n"
      ]
     },
     "metadata": {},
     "output_type": "display_data"
    },
    {
     "data": {
      "text/plain": [
       "\n",
       "\tBox-Ljung test\n",
       "\n",
       "data:  model_auto$residuals\n",
       "X-squared = 3.656, df = 8, p-value = 0.8868\n"
      ]
     },
     "metadata": {},
     "output_type": "display_data"
    },
    {
     "data": {
      "text/plain": [
       "\n",
       "\tBox-Ljung test\n",
       "\n",
       "data:  model_auto$residuals\n",
       "X-squared = 13.223, df = 12, p-value = 0.353\n"
      ]
     },
     "metadata": {},
     "output_type": "display_data"
    }
   ],
   "source": [
    "Box.test(model_auto$residuals, type = \"Ljung-Box\", lag = 4)\n",
    "Box.test(model_auto$residuals, type = \"Ljung-Box\", lag = 8)\n",
    "Box.test(model_auto$residuals, type = \"Ljung-Box\", lag = 12)"
   ]
  },
  {
   "cell_type": "markdown",
   "id": "1bdcb46a",
   "metadata": {},
   "source": [
    "In none of the cases null hypothesis was rejected, thus everything seems to be in order. Last, I will vizualize fitted values:"
   ]
  },
  {
   "cell_type": "code",
   "execution_count": 12,
   "id": "31cfcc5a",
   "metadata": {},
   "outputs": [
    {
     "data": {
      "image/png": "[encoded data removed]",
      "text/plain": [
       "Plot with title \"Fitted values\""
      ]
     },
     "metadata": {},
     "output_type": "display_data"
    }
   ],
   "source": [
    "plot.ts(data_d, ylab = NA, main = 'Fitted values')\n",
    "lines(model_auto$fitted, col = 'red')"
   ]
  }
 ],
 "metadata": {
  "kernelspec": {
   "display_name": "R",
   "language": "R",
   "name": "ir"
  },
  "language_info": {
   "codemirror_mode": "r",
   "file_extension": ".r",
   "mimetype": "text/x-r-source",
   "name": "R",
   "pygments_lexer": "r",
   "version": "3.6.1"
  }
 },
 "nbformat": 4,
 "nbformat_minor": 5
}
