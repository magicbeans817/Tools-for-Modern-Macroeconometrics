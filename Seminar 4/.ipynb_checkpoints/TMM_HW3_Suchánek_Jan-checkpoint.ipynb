{
 "cells": [
  {
   "cell_type": "markdown",
   "id": "264df090",
   "metadata": {},
   "source": [
    "# Tools for Modern Macroeconometrics: Homework 3\n",
    "\n",
    "# Jan Suchánek"
   ]
  },
  {
   "cell_type": "code",
   "execution_count": 45,
   "id": "2b83a179",
   "metadata": {},
   "outputs": [
    {
     "name": "stderr",
     "output_type": "stream",
     "text": [
      "Warning message:\n",
      "\"package 'mFilter' is in use and will not be installed\""
     ]
    },
    {
     "name": "stdout",
     "output_type": "stream",
     "text": [
      "\n",
      "  There is a binary version available but the source version is later:\n",
      "              binary source needs_compilation\n",
      "neverhpfilter  0.3-1  0.4-0             FALSE\n",
      "\n"
     ]
    },
    {
     "name": "stderr",
     "output_type": "stream",
     "text": [
      "installing the source package 'neverhpfilter'\n",
      "\n",
      "Loading required package: xts\n",
      "\n",
      "Attaching package: 'xts'\n",
      "\n",
      "The following objects are masked from 'package:dplyr':\n",
      "\n",
      "    first, last\n",
      "\n"
     ]
    }
   ],
   "source": [
    "library(dplyr)\n",
    "if (!require(forecast)) install.packages(\"forecast\")\n",
    "if (!require(forecast)) install.packages(\"uroot\")\n",
    "library(stats)\n",
    "library(repr)\n",
    "library(tseries)\n",
    "library(readr)\n",
    "library(forecast)\n",
    "#library(uroot)\n",
    "library(urca)\n",
    "library(strucchange)\n",
    "install.packages(\"mFilter\")\n",
    "library(mFilter)\n",
    "install.packages(\"neverhpfilter\")\n",
    "library(neverhpfilter)\n",
    "library(xts)"
   ]
  },
  {
   "cell_type": "markdown",
   "id": "daec8ec4",
   "metadata": {},
   "source": [
    "## 1. Estimate the spectrum of the time series (use logs of levels), then estimate the spectrum of its log differences.\n",
    "\n",
    "For the purpose of this exercise I use quarterly seasonally adjusted Real GDP of Finland. I will start by loading the data and gaining some general idea about structure.\n",
    "\n",
    "https://fred.stlouisfed.org/series/CLVMNACSCAB1GQFI"
   ]
  },
  {
   "cell_type": "code",
   "execution_count": 53,
   "id": "5104fad0",
   "metadata": {},
   "outputs": [
    {
     "data": {
      "text/html": [
       "<table>\n",
       "<thead><tr><th scope=col>date</th><th scope=col>real_gdp</th></tr></thead>\n",
       "<tbody>\n",
       "\t<tr><td>1990-01-01</td><td>32133.4   </td></tr>\n",
       "\t<tr><td>1990-04-01</td><td>31691.2   </td></tr>\n",
       "\t<tr><td>1990-07-01</td><td>31012.2   </td></tr>\n",
       "\t<tr><td>1990-10-01</td><td>30834.4   </td></tr>\n",
       "\t<tr><td>1991-01-01</td><td>30233.1   </td></tr>\n",
       "\t<tr><td>1991-04-01</td><td>29871.2   </td></tr>\n",
       "</tbody>\n",
       "</table>\n"
      ],
      "text/latex": [
       "\\begin{tabular}{r|ll}\n",
       " date & real\\_gdp\\\\\n",
       "\\hline\n",
       "\t 1990-01-01 & 32133.4   \\\\\n",
       "\t 1990-04-01 & 31691.2   \\\\\n",
       "\t 1990-07-01 & 31012.2   \\\\\n",
       "\t 1990-10-01 & 30834.4   \\\\\n",
       "\t 1991-01-01 & 30233.1   \\\\\n",
       "\t 1991-04-01 & 29871.2   \\\\\n",
       "\\end{tabular}\n"
      ],
      "text/markdown": [
       "\n",
       "| date | real_gdp |\n",
       "|---|---|\n",
       "| 1990-01-01 | 32133.4    |\n",
       "| 1990-04-01 | 31691.2    |\n",
       "| 1990-07-01 | 31012.2    |\n",
       "| 1990-10-01 | 30834.4    |\n",
       "| 1991-01-01 | 30233.1    |\n",
       "| 1991-04-01 | 29871.2    |\n",
       "\n"
      ],
      "text/plain": [
       "  date       real_gdp\n",
       "1 1990-01-01 32133.4 \n",
       "2 1990-04-01 31691.2 \n",
       "3 1990-07-01 31012.2 \n",
       "4 1990-10-01 30834.4 \n",
       "5 1991-01-01 30233.1 \n",
       "6 1991-04-01 29871.2 "
      ]
     },
     "metadata": {},
     "output_type": "display_data"
    },
    {
     "name": "stdout",
     "output_type": "stream",
     "text": [
      "Observations: 128\n",
      "Variables: 2\n",
      "$ date     <fct> 1990-01-01, 1990-04-01, 1990-07-01, 1990-10-01, 1991-01-01...\n",
      "$ real_gdp <dbl> 32133.4, 31691.2, 31012.2, 30834.4, 30233.1, 29871.2, 2925...\n"
     ]
    }
   ],
   "source": [
    "finland <- read.csv(\"CLVMNACSCAB1GQFI.csv\")\n",
    "\n",
    "colnames(finland) <- c(\"date\", \"real_gdp\")\n",
    "head(finland)\n",
    "\n",
    "finland %>% glimpse"
   ]
  },
  {
   "cell_type": "markdown",
   "id": "c420be41",
   "metadata": {},
   "source": [
    "To estimate the spectrum, I use predefined function from the seminar."
   ]
  },
  {
   "cell_type": "code",
   "execution_count": null,
   "id": "d6c9cf98",
   "metadata": {},
   "outputs": [],
   "source": [
    "# Function that calculates the fast fourier transformation\n",
    "# and plots the periodogram\n",
    "fftMy <- function(y,T,t,smoothFact){\n",
    "  \n",
    "  # periodogram    ... y in term of scales, x in term of periods\n",
    "  # vs. spectogram ... commented lines \n",
    "  \n",
    "  Ft <- abs(fft(y)/(T/2))\n",
    "  #Ft <- abs(Ft)^2 # y axis scaled\n",
    "  Ft <- Ft[1:ceiling(T/2)]\n",
    "  \n",
    "  #freqs <- t - 2*pi/T\n",
    "  #freqs <- freqs[1:ceiling(T/2)] # x axis in angular, y axis unscaled\n",
    "  freqs <- 0:(ceiling(T/2)-1) # x axis in periods, y axis scaled\n",
    "  \n",
    "  plot(freqs, Ft, type=\"h\", xlab=\"Period\", ylab=expression(f(x))) #, xlim=c(0, pi))\n",
    "  points(freqs, Ft, pch=20)\n",
    "  \n",
    "  # smoothing -> spectrum\n",
    "  # smoothFact = T/5 \n",
    "  lines(smooth.spline(freqs,Ft, df=smoothFact), col=\"OrangeRed\")\n",
    "  \n",
    "}"
   ]
  },
  {
   "cell_type": "code",
   "execution_count": 35,
   "id": "4c9db8d1",
   "metadata": {},
   "outputs": [
    {
     "data": {
      "image/png": "[encoded data removed]",
      "text/plain": [
       "Plot with title \"logs\""
      ]
     },
     "metadata": {},
     "output_type": "display_data"
    }
   ],
   "source": [
    "par(mfrow = c(1, 2))\n",
    "options(repr.plot.width = 10, repr.plot.height = 4)\n",
    "\n",
    "gdp_log <- log(finland$real_gdp)\n",
    "ts.plot(gdp_log, main = \"logs\", ylab = \"\")\n",
    "T <- length(gdp_log)\n",
    "t <- (1:T)*2*pi/T\n",
    "fftMy(gdp_log,T,t,T/5)"
   ]
  },
  {
   "cell_type": "code",
   "execution_count": 37,
   "id": "1f954d65",
   "metadata": {},
   "outputs": [
    {
     "data": {
      "image/png": "[encoded data removed]",
      "text/plain": [
       "Plot with title \"differences of logs\""
      ]
     },
     "metadata": {},
     "output_type": "display_data"
    }
   ],
   "source": [
    "par(mfrow = c(1, 2))\n",
    "gdp_log_diff <- diff(log(finland$real_gdp), 1) * 100\n",
    "ts.plot(gdp_log_diff, main = \"differences of logs\", ylab = \"\")\n",
    "T <- length(gdp_log_diff)\n",
    "t <- (1:T)*2*pi/T\n",
    "fftMy(gdp_log_diff,T,t,T/5)"
   ]
  },
  {
   "cell_type": "markdown",
   "id": "5ff76d6b",
   "metadata": {},
   "source": [
    "## 2. Estimate the cyclical components using the Hodrick-Prescott filter, the Baxter-King filter, and Hamilton's regression filter. Compare the resulting cycles and their respective spectra. Compare average lengths and correlations of the cycle. "
   ]
  },
  {
   "cell_type": "code",
   "execution_count": 43,
   "id": "dc2f18b9",
   "metadata": {},
   "outputs": [
    {
     "name": "stdout",
     "output_type": "stream",
     "text": [
      "\n",
      "Title:\n",
      " Hodrick-Prescott Filter \n",
      "\n",
      "Call:\n",
      " mFilter::hpfilter(x = gdp_log_diff, freq = 1600, type = \"lambda\")\n",
      "\n",
      "Method:\n",
      " hpfilter\n",
      "\n",
      "Filter Type:\n",
      " lambda\n",
      "\n",
      "Series:\n",
      " gdp_log_diff\n",
      "\n",
      "Descriptive Statistics:\n",
      " \n",
      "  gdp_log_diff         Trend              Cycle         \n",
      " Min.   :-6.6969   Min.   :-1.76010   Min.   :-6.70949  \n",
      " 1st Qu.:-0.2412   1st Qu.: 0.04247   1st Qu.:-0.44812  \n",
      " Median : 0.5296   Median : 0.35946   Median : 0.04877  \n",
      " Mean   : 0.3858   Mean   : 0.38582   Mean   : 0.00000  \n",
      " 3rd Qu.: 1.1013   3rd Qu.: 0.76604   3rd Qu.: 0.59279  \n",
      " Max.   : 4.9073   Max.   : 1.29659   Max.   : 4.54647  \n",
      "\n",
      "In-sample error measures:\n",
      "       ME       MSE       MAE       MPE      MAPE \n",
      "1.273e-17 1.580e+00 7.883e-01 6.595e-01 1.548e+00 \n",
      "\n"
     ]
    },
    {
     "data": {
      "image/png": "[encoded data removed]",
      "text/plain": [
       "Plot with title \"Cyclical component (deviations from trend)\""
      ]
     },
     "metadata": {},
     "output_type": "display_data"
    }
   ],
   "source": [
    "# Hodrick-Prescott filter\n",
    "hpfinland <- mFilter::hpfilter(gdp_log_diff,freq=1600,type=\"lambda\")\n",
    "\n",
    "summary(hpfinland)\n",
    "plot(hpfinland)"
   ]
  },
  {
   "cell_type": "code",
   "execution_count": 44,
   "id": "f2b3c0ae",
   "metadata": {},
   "outputs": [
    {
     "name": "stdout",
     "output_type": "stream",
     "text": [
      "\n",
      "Title:\n",
      " Baxter-King Filter \n",
      "\n",
      "Call:\n",
      " bkfilter(x = gdp_log_diff)\n",
      "\n",
      "Method:\n",
      " bkfilter\n",
      "\n",
      "Filter Type:\n",
      " fixed\n",
      "\n",
      "Series:\n",
      " gdp_log_diff\n",
      "\n",
      "Descriptive Statistics:\n",
      " \n",
      "  gdp_log_diff         Trend              Cycle          \n",
      " Min.   :-6.6969   Min.   :-1.94666   Min.   :-5.948651  \n",
      " 1st Qu.:-0.2412   1st Qu.:-0.06661   1st Qu.:-0.425785  \n",
      " Median : 0.5296   Median : 0.63531   Median :-0.000194  \n",
      " Mean   : 0.3858   Mean   : 0.41987   Mean   :-0.007919  \n",
      " 3rd Qu.: 1.1013   3rd Qu.: 0.98454   3rd Qu.: 0.486156  \n",
      " Max.   : 4.9073   Max.   : 1.67948   Max.   : 4.877428  \n",
      "                   NA's   :6          NA's   :6          \n",
      "\n",
      "In-sample error measures:\n",
      "       ME       MSE       MAE       MPE      MAPE \n",
      "-0.007919  1.218147  0.694560  0.761642  1.671991 \n",
      "\n"
     ]
    },
    {
     "data": {
      "image/png": "[encoded data removed]",
      "text/plain": [
       "Plot with title \"Cyclical component (deviations from trend)\""
      ]
     },
     "metadata": {},
     "output_type": "display_data"
    }
   ],
   "source": [
    "# Baxter-King filter\n",
    "\n",
    "bkfinland <- bkfilter(gdp_log_diff)\n",
    "\n",
    "summary(bkfinland)\n",
    "\n",
    "plot(bkfinland)"
   ]
  },
  {
   "cell_type": "code",
   "execution_count": 61,
   "id": "3516b41a",
   "metadata": {},
   "outputs": [
    {
     "name": "stderr",
     "output_type": "stream",
     "text": [
      "Warning message in yth_filter(gdp_log_diff_xts, h = 8, p = 4):\n",
      "\"Your xts object doesn't have a dimnames attribute, aka names(your_xts) is NULL, which would've produced an error.\n",
      "    Thus it has been given the name 'y' within the scope, and for the output, of this function.\""
     ]
    },
    {
     "data": {
      "image/png": "[encoded data removed]",
      "text/plain": [
       "plot without title"
      ]
     },
     "metadata": {},
     "output_type": "display_data"
    }
   ],
   "source": [
    "# Hamilton's regression filter\n",
    "\n",
    "dates <- seq(as.Date(\"1990-04-01\"), length = nrow(finland)-1, by = \"quarters\")\n",
    "gdp_log_diff_xts <- xts(gdp_log_diff, order.by = dates)\n",
    "\n",
    "gdp_HAM <- yth_filter(gdp_log_diff_xts, h= 8, p = 4)\n",
    "par(mfrow=c(1,1))\n",
    "plot(gdp_HAM[\"1990/\"][,1:2], grid.col = \"white\", legend.loc = \"topleft\", main = \"Log of Real GDP and trend\", panels = 'lines(gdp_HAM[\"1990/\"][,3], type=\"h\", on=NA)')\n"
   ]
  },
  {
   "cell_type": "code",
   "execution_count": 58,
   "id": "b5c11c6a",
   "metadata": {},
   "outputs": [],
   "source": []
  },
  {
   "cell_type": "code",
   "execution_count": 54,
   "id": "69a05349",
   "metadata": {},
   "outputs": [],
   "source": [
    "?yth_filter"
   ]
  }
 ],
 "metadata": {
  "kernelspec": {
   "display_name": "R",
   "language": "R",
   "name": "ir"
  },
  "language_info": {
   "codemirror_mode": "r",
   "file_extension": ".r",
   "mimetype": "text/x-r-source",
   "name": "R",
   "pygments_lexer": "r",
   "version": "3.6.1"
  }
 },
 "nbformat": 4,
 "nbformat_minor": 5
}
