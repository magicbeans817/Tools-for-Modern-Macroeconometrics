{
 "cells": [
  {
   "cell_type": "markdown",
   "id": "264df090",
   "metadata": {},
   "source": [
    "# Tools for Modern Macroeconometrics: Homework 3\n",
    "\n",
    "# Jan Suchánek"
   ]
  },
  {
   "cell_type": "code",
   "execution_count": 1,
   "id": "2b83a179",
   "metadata": {},
   "outputs": [
    {
     "name": "stderr",
     "output_type": "stream",
     "text": [
      "\n",
      "Attaching package: 'dplyr'\n",
      "\n",
      "The following objects are masked from 'package:stats':\n",
      "\n",
      "    filter, lag\n",
      "\n",
      "The following objects are masked from 'package:base':\n",
      "\n",
      "    intersect, setdiff, setequal, union\n",
      "\n",
      "Loading required package: forecast\n",
      "Warning message:\n",
      "\"package 'forecast' was built under R version 3.6.3\"Registered S3 methods overwritten by 'ggplot2':\n",
      "  method         from \n",
      "  [.quosures     rlang\n",
      "  c.quosures     rlang\n",
      "  print.quosures rlang\n",
      "Registered S3 method overwritten by 'xts':\n",
      "  method     from\n",
      "  as.zoo.xts zoo \n",
      "Registered S3 method overwritten by 'quantmod':\n",
      "  method            from\n",
      "  as.zoo.data.frame zoo \n",
      "Warning message:\n",
      "\"package 'tseries' was built under R version 3.6.3\"Warning message:\n",
      "\"package 'urca' was built under R version 3.6.3\"Warning message:\n",
      "\"package 'strucchange' was built under R version 3.6.3\"Loading required package: zoo\n",
      "\n",
      "Attaching package: 'zoo'\n",
      "\n",
      "The following objects are masked from 'package:base':\n",
      "\n",
      "    as.Date, as.Date.numeric\n",
      "\n",
      "Loading required package: sandwich\n"
     ]
    },
    {
     "name": "stdout",
     "output_type": "stream",
     "text": [
      "package 'mFilter' successfully unpacked and MD5 sums checked\n",
      "\n",
      "The downloaded binary packages are in\n",
      "\tC:\\Users\\jsuch\\AppData\\Local\\Temp\\RtmpWOQA8m\\downloaded_packages\n"
     ]
    },
    {
     "name": "stderr",
     "output_type": "stream",
     "text": [
      "Warning message:\n",
      "\"package 'mFilter' was built under R version 3.6.3\""
     ]
    },
    {
     "name": "stdout",
     "output_type": "stream",
     "text": [
      "\n",
      "  There is a binary version available but the source version is later:\n",
      "              binary source needs_compilation\n",
      "neverhpfilter  0.3-1  0.4-0             FALSE\n",
      "\n"
     ]
    },
    {
     "name": "stderr",
     "output_type": "stream",
     "text": [
      "installing the source package 'neverhpfilter'\n",
      "\n",
      "Loading required package: xts\n",
      "\n",
      "Attaching package: 'xts'\n",
      "\n",
      "The following objects are masked from 'package:dplyr':\n",
      "\n",
      "    first, last\n",
      "\n"
     ]
    }
   ],
   "source": [
    "library(dplyr)\n",
    "if (!require(forecast)) install.packages(\"forecast\")\n",
    "if (!require(forecast)) install.packages(\"uroot\")\n",
    "library(stats)\n",
    "library(repr)\n",
    "library(tseries)\n",
    "library(readr)\n",
    "library(forecast)\n",
    "#library(uroot)\n",
    "library(urca)\n",
    "library(strucchange)\n",
    "install.packages(\"mFilter\")\n",
    "library(mFilter)\n",
    "install.packages(\"neverhpfilter\")\n",
    "library(neverhpfilter)\n",
    "library(xts)"
   ]
  },
  {
   "cell_type": "markdown",
   "id": "daec8ec4",
   "metadata": {},
   "source": [
    "## 1. Estimate the spectrum of the time series (use logs of levels), then estimate the spectrum of its log differences.\n",
    "\n",
    "For the purpose of this exercise I use quarterly seasonally adjusted Real GDP of Finland. I will start by loading the data and gaining some general idea about structure.\n",
    "\n",
    "https://fred.stlouisfed.org/series/CLVMNACSCAB1GQFI"
   ]
  },
  {
   "cell_type": "code",
   "execution_count": 2,
   "id": "5104fad0",
   "metadata": {},
   "outputs": [
    {
     "data": {
      "text/html": [
       "<table>\n",
       "<thead><tr><th></th><th scope=col>date</th><th scope=col>real_gdp</th></tr></thead>\n",
       "<tbody>\n",
       "\t<tr><th scope=row>123</th><td>2020-07-01</td><td>50392.6   </td></tr>\n",
       "\t<tr><th scope=row>124</th><td>2020-10-01</td><td>50904.6   </td></tr>\n",
       "\t<tr><th scope=row>125</th><td>2021-01-01</td><td>50758.9   </td></tr>\n",
       "\t<tr><th scope=row>126</th><td>2021-04-01</td><td>51669.3   </td></tr>\n",
       "\t<tr><th scope=row>127</th><td>2021-07-01</td><td>52148.2   </td></tr>\n",
       "\t<tr><th scope=row>128</th><td>2021-10-01</td><td>52451.1   </td></tr>\n",
       "</tbody>\n",
       "</table>\n"
      ],
      "text/latex": [
       "\\begin{tabular}{r|ll}\n",
       "  & date & real\\_gdp\\\\\n",
       "\\hline\n",
       "\t123 & 2020-07-01 & 50392.6   \\\\\n",
       "\t124 & 2020-10-01 & 50904.6   \\\\\n",
       "\t125 & 2021-01-01 & 50758.9   \\\\\n",
       "\t126 & 2021-04-01 & 51669.3   \\\\\n",
       "\t127 & 2021-07-01 & 52148.2   \\\\\n",
       "\t128 & 2021-10-01 & 52451.1   \\\\\n",
       "\\end{tabular}\n"
      ],
      "text/markdown": [
       "\n",
       "| <!--/--> | date | real_gdp |\n",
       "|---|---|---|\n",
       "| 123 | 2020-07-01 | 50392.6    |\n",
       "| 124 | 2020-10-01 | 50904.6    |\n",
       "| 125 | 2021-01-01 | 50758.9    |\n",
       "| 126 | 2021-04-01 | 51669.3    |\n",
       "| 127 | 2021-07-01 | 52148.2    |\n",
       "| 128 | 2021-10-01 | 52451.1    |\n",
       "\n"
      ],
      "text/plain": [
       "    date       real_gdp\n",
       "123 2020-07-01 50392.6 \n",
       "124 2020-10-01 50904.6 \n",
       "125 2021-01-01 50758.9 \n",
       "126 2021-04-01 51669.3 \n",
       "127 2021-07-01 52148.2 \n",
       "128 2021-10-01 52451.1 "
      ]
     },
     "metadata": {},
     "output_type": "display_data"
    },
    {
     "name": "stdout",
     "output_type": "stream",
     "text": [
      "Observations: 128\n",
      "Variables: 2\n",
      "$ date     <fct> 1990-01-01, 1990-04-01, 1990-07-01, 1990-10-01, 1991-01-01...\n",
      "$ real_gdp <dbl> 32133.4, 31691.2, 31012.2, 30834.4, 30233.1, 29871.2, 2925...\n"
     ]
    }
   ],
   "source": [
    "finland <- read.csv(\"CLVMNACSCAB1GQFI.csv\")\n",
    "\n",
    "colnames(finland) <- c(\"date\", \"real_gdp\")\n",
    "tail(finland)\n",
    "\n",
    "finland %>% glimpse"
   ]
  },
  {
   "cell_type": "markdown",
   "id": "c420be41",
   "metadata": {},
   "source": [
    "To estimate the spectrum, I use predefined function from the seminar."
   ]
  },
  {
   "cell_type": "code",
   "execution_count": 3,
   "id": "d6c9cf98",
   "metadata": {},
   "outputs": [],
   "source": [
    "# Function that calculates the fast fourier transformation\n",
    "# and plots the periodogram\n",
    "fftMy <- function(y,T,t,smoothFact){\n",
    "  \n",
    "  # periodogram    ... y in term of scales, x in term of periods\n",
    "  # vs. spectogram ... commented lines \n",
    "  \n",
    "  Ft <- abs(fft(y)/(T/2))\n",
    "  #Ft <- abs(Ft)^2 # y axis scaled\n",
    "  Ft <- Ft[1:ceiling(T/2)]\n",
    "  \n",
    "  #freqs <- t - 2*pi/T\n",
    "  #freqs <- freqs[1:ceiling(T/2)] # x axis in angular, y axis unscaled\n",
    "  freqs <- 0:(ceiling(T/2)-1) # x axis in periods, y axis scaled\n",
    "  \n",
    "  plot(freqs, Ft, type=\"h\", xlab=\"Period\", ylab=expression(f(x))) #, xlim=c(0, pi))\n",
    "  points(freqs, Ft, pch=20)\n",
    "  \n",
    "  # smoothing -> spectrum\n",
    "  # smoothFact = T/5 \n",
    "  lines(smooth.spline(freqs,Ft, df=smoothFact), col=\"OrangeRed\")\n",
    "  \n",
    "}"
   ]
  },
  {
   "cell_type": "code",
   "execution_count": 4,
   "id": "4c9db8d1",
   "metadata": {},
   "outputs": [
    {
     "data": {
      "image/png": "[encoded data removed]",
      "text/plain": [
       "Plot with title \"logs\""
      ]
     },
     "metadata": {},
     "output_type": "display_data"
    }
   ],
   "source": [
    "par(mfrow = c(1, 2))\n",
    "options(repr.plot.width = 10, repr.plot.height = 4)\n",
    "\n",
    "gdp_log <- log(finland$real_gdp)\n",
    "ts.plot(gdp_log, main = \"logs\", ylab = \"\")\n",
    "T <- length(gdp_log)\n",
    "t <- (1:T)*2*pi/T\n",
    "fftMy(gdp_log,T,t,T/5)"
   ]
  },
  {
   "cell_type": "markdown",
   "id": "28bdb8c0",
   "metadata": {},
   "source": [
    "We can see strong low frequency with rather lower variation."
   ]
  },
  {
   "cell_type": "code",
   "execution_count": 5,
   "id": "1f954d65",
   "metadata": {},
   "outputs": [
    {
     "data": {
      "image/png": "[encoded data removed]",
      "text/plain": [
       "Plot with title \"differences of logs\""
      ]
     },
     "metadata": {},
     "output_type": "display_data"
    }
   ],
   "source": [
    "par(mfrow = c(1, 2))\n",
    "gdp_log_diff <- diff(log(finland$real_gdp), 1) * 100\n",
    "ts.plot(gdp_log_diff, main = \"differences of logs\", ylab = \"\")\n",
    "T <- length(gdp_log_diff)\n",
    "t <- (1:T)*2*pi/T\n",
    "fftMy(gdp_log_diff,T,t,T/5)"
   ]
  },
  {
   "cell_type": "markdown",
   "id": "5ff76d6b",
   "metadata": {},
   "source": [
    "## 2. Estimate the cyclical components using the Hodrick-Prescott filter, the Baxter-King filter, and Hamilton's regression filter. Compare the resulting cycles and their respective spectra. Compare average lengths and correlations of the cycle. "
   ]
  },
  {
   "cell_type": "code",
   "execution_count": 6,
   "id": "dc2f18b9",
   "metadata": {},
   "outputs": [
    {
     "name": "stdout",
     "output_type": "stream",
     "text": [
      "\n",
      "Title:\n",
      " Hodrick-Prescott Filter \n",
      "\n",
      "Call:\n",
      " mFilter::hpfilter(x = gdp_log, freq = 1600, type = \"lambda\")\n",
      "\n",
      "Method:\n",
      " hpfilter\n",
      "\n",
      "Filter Type:\n",
      " lambda\n",
      "\n",
      "Series:\n",
      " gdp_log\n",
      "\n",
      "Descriptive Statistics:\n",
      " \n",
      "    gdp_log          Trend           Cycle          \n",
      " Min.   :10.25   Min.   :10.28   Min.   :-0.062136  \n",
      " 1st Qu.:10.47   1st Qu.:10.45   1st Qu.:-0.012444  \n",
      " Median :10.72   Median :10.74   Median :-0.000794  \n",
      " Mean   :10.63   Mean   :10.63   Mean   : 0.000000  \n",
      " 3rd Qu.:10.78   3rd Qu.:10.77   3rd Qu.: 0.013031  \n",
      " Max.   :10.87   Max.   :10.86   Max.   : 0.055865  \n",
      "\n",
      "In-sample error measures:\n",
      "        ME        MSE        MAE        MPE       MAPE \n",
      " 1.197e-18  4.266e-04  1.586e-02 -6.121e-06  1.494e-03 \n",
      "\n"
     ]
    },
    {
     "data": {
      "image/png": "[encoded data removed]",
      "text/plain": [
       "Plot with title \"Cyclical component (deviations from trend)\""
      ]
     },
     "metadata": {},
     "output_type": "display_data"
    }
   ],
   "source": [
    "# Hodrick-Prescott filter\n",
    "hpfinland <- mFilter::hpfilter(gdp_log,freq=1600,type=\"lambda\")\n",
    "\n",
    "summary(hpfinland)\n",
    "plot(hpfinland)"
   ]
  },
  {
   "cell_type": "code",
   "execution_count": 7,
   "id": "f2b3c0ae",
   "metadata": {},
   "outputs": [
    {
     "name": "stdout",
     "output_type": "stream",
     "text": [
      "\n",
      "Title:\n",
      " Baxter-King Filter \n",
      "\n",
      "Call:\n",
      " bkfilter(x = gdp_log)\n",
      "\n",
      "Method:\n",
      " bkfilter\n",
      "\n",
      "Filter Type:\n",
      " fixed\n",
      "\n",
      "Series:\n",
      " gdp_log\n",
      "\n",
      "Descriptive Statistics:\n",
      " \n",
      "    gdp_log          Trend           Cycle          \n",
      " Min.   :10.25   Min.   :10.25   Min.   :-0.046080  \n",
      " 1st Qu.:10.47   1st Qu.:10.48   1st Qu.:-0.003300  \n",
      " Median :10.72   Median :10.73   Median : 0.000037  \n",
      " Mean   :10.63   Mean   :10.63   Mean   :-0.000230  \n",
      " 3rd Qu.:10.78   3rd Qu.:10.78   3rd Qu.: 0.003422  \n",
      " Max.   :10.87   Max.   :10.84   Max.   : 0.020849  \n",
      "                 NA's   :6       NA's   :6          \n",
      "\n",
      "In-sample error measures:\n",
      "        ME        MSE        MAE        MPE       MAPE \n",
      "-2.305e-04  5.892e-05  4.994e-03 -2.322e-05  4.689e-04 \n",
      "\n"
     ]
    },
    {
     "data": {
      "image/png": "[encoded data removed]",
      "text/plain": [
       "Plot with title \"Cyclical component (deviations from trend)\""
      ]
     },
     "metadata": {},
     "output_type": "display_data"
    }
   ],
   "source": [
    "# Baxter-King filter\n",
    "\n",
    "bkfinland <- bkfilter(gdp_log)\n",
    "\n",
    "summary(bkfinland)\n",
    "\n",
    "plot(bkfinland)"
   ]
  },
  {
   "cell_type": "code",
   "execution_count": 11,
   "id": "3516b41a",
   "metadata": {},
   "outputs": [
    {
     "name": "stderr",
     "output_type": "stream",
     "text": [
      "Warning message in yth_filter(gdp_log_xts, h = 8, p = 4):\n",
      "\"Your xts object doesn't have a dimnames attribute, aka names(your_xts) is NULL, which would've produced an error.\n",
      "    Thus it has been given the name 'y' within the scope, and for the output, of this function.\""
     ]
    },
    {
     "data": {
      "text/plain": [
       "     Index                  y            y.trend         y.cycle         \n",
       " Min.   :1990-04-01   Min.   :10.25   Min.   :10.31   Min.   :-0.127614  \n",
       " 1st Qu.:1998-03-09   1st Qu.:10.47   1st Qu.:10.55   1st Qu.:-0.017082  \n",
       " Median :2006-02-15   Median :10.72   Median :10.73   Median : 0.008097  \n",
       " Mean   :2006-02-14   Mean   :10.63   Mean   :10.66   Mean   : 0.000000  \n",
       " 3rd Qu.:2014-01-23   3rd Qu.:10.78   3rd Qu.:10.79   3rd Qu.: 0.028658  \n",
       " Max.   :2022-01-01   Max.   :10.87   Max.   :10.86   Max.   : 0.092793  \n",
       "                                      NA's   :11      NA's   :11         \n",
       "    y.random        \n",
       " Min.   :-0.102379  \n",
       " 1st Qu.:-0.000526  \n",
       " Median : 0.048060  \n",
       " Mean   : 0.034215  \n",
       " 3rd Qu.: 0.072760  \n",
       " Max.   : 0.129196  \n",
       " NA's   :8          "
      ]
     },
     "metadata": {},
     "output_type": "display_data"
    },
    {
     "data": {
      "image/png": "[encoded data removed]",
      "text/plain": [
       "plot without title"
      ]
     },
     "metadata": {},
     "output_type": "display_data"
    }
   ],
   "source": [
    "# Hamilton's regression filter\n",
    "\n",
    "dates <- seq(as.Date(\"1990-04-01\"), length = nrow(finland), by = \"quarters\")\n",
    "gdp_log_xts <- xts(gdp_log, order.by = dates)\n",
    "\n",
    "gdp_HAM <- yth_filter(gdp_log_xts, h= 8, p = 4)\n",
    "par(mfrow=c(1,1))\n",
    "plot(gdp_HAM[\"1990/\"][,1:2], grid.col = \"white\", legend.loc = \"topleft\", main = \"Log of Real GDP and trend\", panels = 'lines(gdp_HAM[\"1990/\"][,3], type=\"h\", on=NA)')\n",
    "summary(gdp_HAM)"
   ]
  },
  {
   "cell_type": "markdown",
   "id": "9349ecf2",
   "metadata": {},
   "source": [
    "Cyclical component of Baxter-King Filter makes sense. It actually seems cyclical, with strong dwonward deviations in 2008 and 2020 (implications of 2008 depression and Covid-19 crisis. However, period of the cycle seems to be much shorter compared to other remaining filters. Hodrick-Prescott Filter implies much longer cycle often interrupted by individual peaks. Overrall, its cycle looks less \"nice\" than cycles for both Baxter-King Filter and Hamilton's Regression Filter. Hamilton's Regression Filter depicts quite nice cycle, nevertheless the cycle has highest amplitude of all filters. "
   ]
  },
  {
   "cell_type": "code",
   "execution_count": 12,
   "id": "308c0373",
   "metadata": {},
   "outputs": [
    {
     "data": {
      "image/png": "[encoded data removed]",
      "text/plain": [
       "Plot with title \"Series: x\n",
       "Raw Periodogram\""
      ]
     },
     "metadata": {},
     "output_type": "display_data"
    }
   ],
   "source": [
    "par(mfrow=c(1,3))\n",
    "hp_s <- spectrum(hpfinland$cycle)\n",
    "bk_s <- spectrum(bkfinland$cycle[4:124])\n",
    "ham_s <- spectrum(gdp_HAM$y.cycle[12:length(gdp_HAM$y.cycle)])"
   ]
  },
  {
   "cell_type": "code",
   "execution_count": 13,
   "id": "677561e4",
   "metadata": {},
   "outputs": [
    {
     "data": {
      "image/png": "[encoded data removed]",
      "text/plain": [
       "plot without title"
      ]
     },
     "metadata": {},
     "output_type": "display_data"
    }
   ],
   "source": [
    "par(mfrow=c(1,3))\n",
    "plot(hp_s$freq, hp_s$spec, type = \"l\")\n",
    "plot(bk_s$freq, bk_s$spec, type = \"l\")\n",
    "plot(ham_s$freq, ham_s$spec, type = \"l\")"
   ]
  },
  {
   "cell_type": "markdown",
   "id": "54cc0aac",
   "metadata": {},
   "source": [
    "According to estimation of spectral densities by different filters, we can see that Hodrick-Prescott Filter and Hamilton's Regression Filter provide similar idea: cycle consists mostly from waves of lower frequencies. In opposition, Spectral density of the cycle for Baxter-King Filter consists of waves of all frequencies on its domain. This provides much less consistent idea of how the cycle works in contrast with previous filters."
   ]
  },
  {
   "cell_type": "markdown",
   "id": "fb19046e",
   "metadata": {},
   "source": [
    "## 3. What do the different procedures tell us about the latest observations in your sample?"
   ]
  },
  {
   "cell_type": "markdown",
   "id": "5021f664",
   "metadata": {},
   "source": [
    "Concerning latest observations in the sample, it seems that there occured some stochastic shocks. There had been downwards shock, which probably reflects Covid 19 crisis. It is followed by an upwards shock, which likely indicates the recovery after Covid 19 crisis. After reheating the economy, there follows another downwards shock likely due to pre-heated economy. Last but not least, there occurs bit larger peak, but nothing out of ordinary, which maybe indicates how economy returns back to its natural cycle, which is to be interrupted by war on Ukraine. Of course, the filters I used were not able to properly take into account these shocks and therefore overestimate value of GDP for given time periods."
   ]
  }
 ],
 "metadata": {
  "kernelspec": {
   "display_name": "R",
   "language": "R",
   "name": "ir"
  },
  "language_info": {
   "codemirror_mode": "r",
   "file_extension": ".r",
   "mimetype": "text/x-r-source",
   "name": "R",
   "pygments_lexer": "r",
   "version": "3.6.1"
  }
 },
 "nbformat": 4,
 "nbformat_minor": 5
}
