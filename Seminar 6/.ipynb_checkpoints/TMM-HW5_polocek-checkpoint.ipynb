{
 "cells": [
  {
   "cell_type": "code",
   "execution_count": 1,
   "id": "e42bdb4c-4fa9-4138-99cb-5f3a32f0707d",
   "metadata": {},
   "outputs": [
    {
     "name": "stdout",
     "output_type": "stream",
     "text": [
      "\n",
      "  There is a binary version available but the source version is later:\n",
      "        binary source needs_compilation\n",
      "pdfetch  0.2.4  0.2.6             FALSE\n",
      "\n"
     ]
    },
    {
     "name": "stderr",
     "output_type": "stream",
     "text": [
      "installing the source package 'pdfetch'\n",
      "\n"
     ]
    },
    {
     "name": "stdout",
     "output_type": "stream",
     "text": [
      "package 'midasr' successfully unpacked and MD5 sums checked\n",
      "\n",
      "The downloaded binary packages are in\n",
      "\tC:\\Users\\jsuch\\AppData\\Local\\Temp\\RtmpGuvKvP\\downloaded_packages\n"
     ]
    },
    {
     "name": "stderr",
     "output_type": "stream",
     "text": [
      "Warning message:\n",
      "\"package 'midasr' was built under R version 3.6.3\"Loading required package: sandwich\n",
      "Loading required package: optimx\n",
      "Loading required package: quantreg\n",
      "Warning message:\n",
      "\"package 'quantreg' was built under R version 3.6.3\"Loading required package: SparseM\n",
      "Warning message:\n",
      "\"package 'SparseM' was built under R version 3.6.3\"\n",
      "Attaching package: 'SparseM'\n",
      "\n",
      "The following object is masked from 'package:base':\n",
      "\n",
      "    backsolve\n",
      "\n",
      "Error: package or namespace load failed for 'quantreg' in loadNamespace(j <- i[[1L]], c(lib.loc, .libPaths()), versionCheck = vI[[j]]):\n",
      " there is no package called 'conquer'\n"
     ]
    },
    {
     "ename": "ERROR",
     "evalue": "Error: package 'quantreg' could not be loaded\n",
     "output_type": "error",
     "traceback": [
      "Error: package 'quantreg' could not be loaded\nTraceback:\n",
      "1. library(midasr)",
      "2. .getRequiredPackages2(pkgInfo, quietly = quietly)",
      "3. stop(gettextf(\"package %s could not be loaded\", sQuote(pkg)), \n .     call. = FALSE, domain = NA)"
     ]
    }
   ],
   "source": [
    "install.packages(\"pdfetch\")\n",
    "install.packages(\"midasr\")\n",
    "library(midasr) \n"
   ]
  },
  {
   "cell_type": "code",
   "execution_count": null,
   "id": "3ee6634b-3aac-4cae-a309-957072df38e2",
   "metadata": {},
   "outputs": [],
   "source": []
  },
  {
   "cell_type": "code",
   "execution_count": null,
   "id": "0591e337-b3ab-4c61-b67e-2e1dc2517b30",
   "metadata": {},
   "outputs": [],
   "source": [
    "library(pdfetch)\n",
    "library(forecast)\n",
    "library(tsm)\n",
    "library(dlm)\n",
    "library(zoo)\n",
    "library(forecast)\n",
    "library(rts)"
   ]
  },
  {
   "cell_type": "code",
   "execution_count": null,
   "id": "555a56d8-fd8f-4d90-bc94-9250001d7e3b",
   "metadata": {},
   "outputs": [],
   "source": [
    "gdp <- pdfetch_FRED(\"NGDPRSAXDCPLQ\") \n",
    "plot(gdp, main = \"GDP of Poland\")\n",
    "lgdp<-diff(log(gdp))\n",
    "plot(lgdp, main = \"logGDP growth\")"
   ]
  },
  {
   "cell_type": "markdown",
   "id": "26274e6d-c0c4-48f3-9327-e895404334e4",
   "metadata": {},
   "source": [
    "#### Classification of recessions according to the criterion of two subsequent periods of negative GDP growth"
   ]
  },
  {
   "cell_type": "code",
   "execution_count": null,
   "id": "14e6ac89-1cce-422e-806f-56fa0c545b14",
   "metadata": {},
   "outputs": [],
   "source": [
    "for (i in c(2:(length(lgdp[,1])-1))) {  if ((lgdp[i]>=0 && lgdp[i+1]>=0)==0) {print(index(lgdp)[i])}}\n",
    "#index function for some reason does not work"
   ]
  },
  {
   "cell_type": "markdown",
   "id": "db3301ee-22b4-4ba9-bfd4-d78f50cda272",
   "metadata": {},
   "source": [
    "[1] \"1995-09-30\"\n",
    "[1] \"1995-12-31\"\n",
    "[1] \"1996-09-30\"\n",
    "[1] \"1996-12-31\"\n",
    "[1] \"1997-06-30\"\n",
    "[1] \"1997-09-30\"\n",
    "[1] \"1998-03-31\"\n",
    "[1] \"1998-06-30\"\n",
    "[1] \"1999-12-31\"\n",
    "[1] \"2000-03-31\"\n",
    "[1] \"2000-12-31\"\n",
    "[1] \"2001-03-31\"\n",
    "[1] \"2001-06-30\"\n",
    "[1] \"2004-06-30\"\n",
    "[1] \"2004-09-30\"\n",
    "[1] \"2006-09-30\"\n",
    "[1] \"2006-12-31\"\n",
    "[1] \"2008-06-30\"\n",
    "[1] \"2008-09-30\"\n",
    "[1] \"2009-12-31\"\n",
    "[1] \"2010-03-31\"\n",
    "[1] \"2012-03-31\"\n",
    "[1] \"2012-06-30\"\n",
    "[1] \"2012-09-30\"\n",
    "[1] \"2012-12-31\"\n",
    "[1] \"2015-12-31\"\n",
    "[1] \"2016-03-31\"\n",
    "[1] \"2020-03-31\"\n",
    "[1] \"2020-06-30\"\n",
    "[1] \"2020-09-30\"\n",
    "[1] \"2020-12-31\""
   ]
  },
  {
   "cell_type": "code",
   "execution_count": null,
   "id": "f4fa6b3c-d6d0-4d06-b36d-2f2182cd80dc",
   "metadata": {},
   "outputs": [],
   "source": [
    "rec<-as.Date(c('1995-09-30 ',' 1995-12-31 ',' 1996-09-30 ',' 1996-12-31 ',' 1997-06-30 ',' 1997-09-30 ',' 1998-03-31 ',' 1998-06-30 ',' 1999-12-31 ',' 2000-03-31 ',' 2000-12-31 ',' 2001-03-31 ',' 2001-06-30 ',' 2004-06-30 ',' 2004-09-30 ',' 2006-09-30 ',' 2006-12-31 ',' 2008-06-30 ',' 2008-09-30 ',' 2009-12-31 ',' 2010-03-31 ',' 2012-03-31 ',' 2012-06-30 ',' 2012-09-30 ',' 2012-12-31 ',' 2015-12-31 ',' 2016-03-31 ',' 2020-03-31 ',' 2020-06-30 ',' 2020-09-30 ',' 2020-12-31'))\n",
    "plot(rec, type = \"o\")"
   ]
  },
  {
   "cell_type": "markdown",
   "id": "5ec1aa19-e92b-447b-8974-e540df6a0c21",
   "metadata": {},
   "source": [
    "Here we can see the many recessions take only 2 periods, however, there are also longer periods, and periods between the crises vary even more. There are two longer crises - in 2012 and 2020, even crisis in 2008 was formally only 2 periods long."
   ]
  },
  {
   "cell_type": "code",
   "execution_count": 2,
   "id": "71b7732a-a14e-423f-8ed6-9f7a3446bfdd",
   "metadata": {},
   "outputs": [
    {
     "name": "stderr",
     "output_type": "stream",
     "text": [
      "Warning message:\n",
      "\"package 'mFilter' was built under R version 3.6.3\""
     ]
    }
   ],
   "source": [
    "library(mFilter)"
   ]
  },
  {
   "cell_type": "code",
   "execution_count": 3,
   "id": "295ef3a6-f16a-4575-83ef-f0b444e60297",
   "metadata": {},
   "outputs": [
    {
     "ename": "ERROR",
     "evalue": "Error in eval(expr, envir, enclos): object 'gdp' not found\n",
     "output_type": "error",
     "traceback": [
      "Error in eval(expr, envir, enclos): object 'gdp' not found\nTraceback:\n"
     ]
    }
   ],
   "source": [
    "loggdp<-log(gdp) #make it relative to see how big the deviations actually are\n",
    "hp <- hpfilter(loggdp,freq=1600,type=\"lambda\")\n",
    "plot(hp)\n",
    "plot(hp$cycle, type = 'o')\n",
    "abline(h=-0.02)"
   ]
  },
  {
   "cell_type": "markdown",
   "id": "3d17257d-a01c-4cb7-863b-b420840d0eb9",
   "metadata": {},
   "source": [
    "Apparently, the HP filter identifies more periods under potential, the question is, whether all of them can be defined as a recession, those two terms are not entirely equivalent. By definition, in the HP filter  there will be about half of the observations below the potential, which is definitely less strict compared to two quaters of GDP decrease (for most countries with growing GDP). However, some differences are noteworthy, e.g. how both methods classify the recessions in 2008 and 2012 - HP suggests the one in 2008 was more severe, but the criterion presents the crisis in 2012 to be longer, hence possible more severe. \n",
    "If we set a cutoff at about 2% of the average GDP we see recessionsin 2020 but also in both 2008 and 2012 (since -2% is arbitrary it does not make much sense to be strict about it). \n",
    "On the other hand, it paints the picture of the 1990s completely differently, than the previous criterion does. Here it seems like all was more or less ok except for that one depression, the criterion suggested sequences of 2-recessions-periods separated by only 1 or 2 quaters of growth - suggesting rather long term structural problems, than growth with an occasional breakdown. "
   ]
  },
  {
   "cell_type": "code",
   "execution_count": 4,
   "id": "3501a146-e727-47d2-af29-e92f9299ffc6",
   "metadata": {},
   "outputs": [
    {
     "data": {
      "text/html": [
       "107"
      ],
      "text/latex": [
       "107"
      ],
      "text/markdown": [
       "107"
      ],
      "text/plain": [
       "[1] 107"
      ]
     },
     "metadata": {},
     "output_type": "display_data"
    },
    {
     "data": {
      "image/png": "[encoded data removed]",
      "text/plain": [
       "plot without title"
      ]
     },
     "metadata": {},
     "output_type": "display_data"
    }
   ],
   "source": [
    "lg<-c(' 0.0179164259143043 ',' 0.0349845105649997 ',' -0.00147837539322992 ',' 0.0291521695798291 ',' 0.0217073175662197 ',' 0.00866278690580913 ',' -0.0414251115272215 ',' 0.069616918183975 ',' 0.0136309198033686 ',' -0.00258298787152711 ',' 0.0166220060023416 ',' 0.0273747577883494 ',' -0.00267405785642083 ',' 0.00840198255771796 ',' 0.00211601636182657 ',' 0.00587368388077003 ',' 0.0229473103322224 ',' 0.0218854351140028 ',' 0.0193480825911987 ',' -0.00341597534152172 ',' 0.0119737746231134 ',' 0.00386476328577778 ',' 0.0288994006204391 ',' -0.0135749595284071 ',' -0.00454116816219319 ',' 0.00779902293363754 ',' 0.00295253775212601 ',' 0.00211271136094204 ',' 0.00900363112829261 ',' 0.0122509990936113 ',' 0.00094270293672416 ',' 0.00348897431451434 ',' 0.0207508086836796 ',' 0.0110746040219905 ',' 0.00279630217668903 ',' 0.0294344827946631 ',' 0.00806108658696836 ',' -0.00504950450310382 ',' 0.0105456727683695 ',' 0.0109585760783109 ',' 0.00147243218992266 ',' 0.0191416412135208 ',' 0.0182270439608878 ',' 0.014921239168018 ',' 0.0227371594535146 ',' 0.0163755446002654 ',' -0.0150999182260563 ',' 0.0448774494540523 ',' 0.011333114337237 ',' 0.016829192936985 ',' 0.0133452255488482 ',' 0.018995692303454 ',' 0.00242780780247998 ',' -0.00337107677009207 ',' 0.00404031869726396 ',' 0.0156644012575526 ',' 0.00046106232591292 ',' 0.00576656278626864 ',' 0.0236835924729419 ',' -0.00423349616442437 ',' 0.0151446609983186 ',' 0.0131008125257566 ',' 0.00972771478074108 ',' 0.0112178897295845 ',' 0.0132603942256111 ',' 0.0128017417217663 ',' 0.00631525240659059 ',' 0.000692065404917841 ',' -0.00245862737854985 ',' 0.00437340007042408 ',' -0.00528332839146906 ',' 0.000641789231382361 ',' 0.0107039407192406 ',' 0.00754197851569316 ',' 0.00263051454060559 ',' 0.010285368517188 ',' 0.0113062946197608 ',' 0.0083381932977602 ',' 0.00650752322130366 ',' 0.0140866292548036 ',' 0.00780325526494785 ',' 0.0126118145910645 ',' 0.0123302036681547 ',' -0.0029548621988944 ',' 0.0129712789524081 ',' 0.00258808149968814 ',' 0.0226376593010951 ',' 0.00940360610163715 ',' 0.00865106106754254 ',' 0.0112856667376846 ',' 0.0174534535282156 ',' 0.0125762108223189 ',' 0.0129091053487329 ',' 0.0139123007241952 ',' 0.00875104659916559 ',' 0.0183937899801254 ',' 0.00684377629836597 ',' 0.0107147689365998 ',' 0.00349736318118055 ',' 0.000886757485153211 ',' -0.0965357199350674 ',' 0.0728716066470056 ',' -0.00314897451927543 ',' 0.0158075944476685 ',' 0.0181844369200572 ',' 0.022916381146052 ',' 0.0166003287784804' )\n",
    "length(lg)\n",
    "plot(lg, type = \"l\")\n",
    "#hardcopied datapoints from R"
   ]
  },
  {
   "cell_type": "markdown",
   "id": "29abb78a-3396-4ff2-8e82-3345a1b8694d",
   "metadata": {},
   "source": [
    "## MIDAS"
   ]
  },
  {
   "cell_type": "code",
   "execution_count": 5,
   "id": "6138900b-2746-4537-9d28-6952023df27f",
   "metadata": {},
   "outputs": [
    {
     "ename": "ERROR",
     "evalue": "Error in pdfetch_FRED(\"LMUNRRTTPLM156S\"): could not find function \"pdfetch_FRED\"\n",
     "output_type": "error",
     "traceback": [
      "Error in pdfetch_FRED(\"LMUNRRTTPLM156S\"): could not find function \"pdfetch_FRED\"\nTraceback:\n"
     ]
    }
   ],
   "source": [
    "unem <- pdfetch_FRED(\"LMUNRRTTPLM156S\") \n",
    "plot(unem, main = \"Unemployment of Poland\")\n",
    "lunem<-diff((unem))\n",
    "plot(lunem, main = \"differences in unemployment\")"
   ]
  },
  {
   "cell_type": "markdown",
   "id": "1bc3ab5e-b8b9-4011-984b-370a5ebc534f",
   "metadata": {},
   "source": [
    "We can suspect there is some kind of structural break, probably a methodological change around Jan 2002 (and indeed there was https://web.archive.org/web/20200517111436/https://stat.gov.pl/obszary-tematyczne/rynek-pracy/bezrobocie-rejestrowane/stopa-bezrobocia-rejestrowanego-w-latach-1990-2020,4,1.html). For this reason we will try to perform it on the whole sample and on the data after the breakpoint. "
   ]
  },
  {
   "cell_type": "code",
   "execution_count": 6,
   "id": "14cf6ac9-8bb4-4271-95a4-534214faaec6",
   "metadata": {},
   "outputs": [
    {
     "ename": "ERROR",
     "evalue": "Error in index(lunem): could not find function \"index\"\n",
     "output_type": "error",
     "traceback": [
      "Error in index(lunem): could not find function \"index\"\nTraceback:\n",
      "1. data.frame(index(lunem), lunem)"
     ]
    }
   ],
   "source": [
    "\n",
    "lundf<-data.frame(index(lunem), lunem)\n",
    "View(lgdp)\n",
    "View(lunem)\n",
    "\n",
    "munem<-lundf[c(64:381),2]\n",
    "mgdp <- lg[c(2:107),2] #data frame of lgdp\n",
    "#here I had to restrict the initial sample by one quater since MIDAS requires complete periods of all variables (one additional unemployment is not sufficient, it needs three periods at least)\n",
    "\n",
    "beta0 <- midas_r(mgdp ~ mls(mgdp, 1, 1) + mls(munem, 3:11, 3, nbeta), start = list(munem = c(1,1,1)))\n",
    "coef(beta0) \n",
    "\n",
    "xnew <- lundf[382:384,2]\n",
    "forecast(beta0, newdata = list(munem = xnew), se=TRUE)\n",
    "forecast(beta0, newdata = list(munem = rep(NA,3)), se=TRUE) "
   ]
  },
  {
   "cell_type": "markdown",
   "id": "b2cc2525-47a8-4537-a81d-b9de09882a4c",
   "metadata": {},
   "source": [
    "I can't make Jupiter accept index function and I found no way around so I just will post the results here"
   ]
  },
  {
   "cell_type": "code",
   "execution_count": 57,
   "id": "77930d5c-4166-490e-9f70-b364bb061e7f",
   "metadata": {},
   "outputs": [
    {
     "ename": "ERROR",
     "evalue": "Error in parse(text = x, srcfile = src): <text>:1:1: unexpected '/'\n1: /\n    ^\n",
     "output_type": "error",
     "traceback": [
      "Error in parse(text = x, srcfile = src): <text>:1:1: unexpected '/'\n1: /\n    ^\nTraceback:\n"
     ]
    }
   ],
   "source": [
    "forecast(beta0, newdata = list(munem = xnew), se=TRUE)\n",
    "  Point Forecast        Lo 80     Hi 80       Lo 95      Hi 95\n",
    "1    0.006274412 -0.005383533 0.0233268 -0.01052295 0.02715497\n",
    "\n",
    "> forecast(beta0, newdata = list(munem = rep(NA,3)), se=TRUE) #without supplying new data\n",
    "  Point Forecast        Lo 80      Hi 80       Lo 95      Hi 95\n",
    "1    0.006274412 -0.005383533 0.02322249 -0.01989799 0.0271549"
   ]
  },
  {
   "cell_type": "markdown",
   "id": "9834beb6-0277-4305-880a-59fcb8c8b4ab",
   "metadata": {},
   "source": [
    "As we can see, the results differ only marginally for the period of unemployment added, but this is probably due to the high number of observations. If we had yearly and quaterly data, we may get more useful \"upgrade\"."
   ]
  }
 ],
 "metadata": {
  "kernelspec": {
   "display_name": "R",
   "language": "R",
   "name": "ir"
  },
  "language_info": {
   "codemirror_mode": "r",
   "file_extension": ".r",
   "mimetype": "text/x-r-source",
   "name": "R",
   "pygments_lexer": "r",
   "version": "3.6.1"
  }
 },
 "nbformat": 4,
 "nbformat_minor": 5
}
