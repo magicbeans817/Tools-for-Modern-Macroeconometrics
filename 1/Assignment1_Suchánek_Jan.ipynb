{
 "cells": [
  {
   "cell_type": "markdown",
   "id": "43f51fbf",
   "metadata": {},
   "source": [
    "# Jan Suchánek\n",
    "## 1)  a) Generate an AR(1) and ARMA(1,1) process. Do not use predefined functions. Estimate both the processes"
   ]
  },
  {
   "cell_type": "code",
   "execution_count": 9,
   "id": "b48ad235",
   "metadata": {},
   "outputs": [
    {
     "name": "stderr",
     "output_type": "stream",
     "text": [
      "Loading required package: forecast\n",
      "Warning message:\n",
      "\"package 'forecast' was built under R version 3.6.3\"Registered S3 methods overwritten by 'ggplot2':\n",
      "  method         from \n",
      "  [.quosures     rlang\n",
      "  c.quosures     rlang\n",
      "  print.quosures rlang\n",
      "Registered S3 method overwritten by 'xts':\n",
      "  method     from\n",
      "  as.zoo.xts zoo \n",
      "Registered S3 method overwritten by 'quantmod':\n",
      "  method            from\n",
      "  as.zoo.data.frame zoo \n",
      "Loading required package: uroot\n",
      "Warning message:\n",
      "\"package 'uroot' was built under R version 3.6.3\"Warning message:\n",
      "\"package 'tseries' was built under R version 3.6.3\"\n",
      "Attaching package: 'dplyr'\n",
      "\n",
      "The following objects are masked from 'package:stats':\n",
      "\n",
      "    filter, lag\n",
      "\n",
      "The following objects are masked from 'package:base':\n",
      "\n",
      "    intersect, setdiff, setequal, union\n",
      "\n"
     ]
    }
   ],
   "source": [
    "if (!require(forecast)) install.packages(\"forecast\")\n",
    "if (!require(uroot)) install.packages(\"uroot\")\n",
    "library(stats)\n",
    "library(repr) \n",
    "library(tseries)\n",
    "library(readr)\n",
    "library(forecast)\n",
    "library(uroot)\n",
    "library(dplyr)\n",
    "\n",
    "options(repr.plot.width = 10, repr.plot.height = 4)"
   ]
  },
  {
   "cell_type": "markdown",
   "id": "8a912899",
   "metadata": {},
   "source": [
    "### AR(1) process"
   ]
  },
  {
   "cell_type": "code",
   "execution_count": 10,
   "id": "7f09bcb6",
   "metadata": {
    "scrolled": true
   },
   "outputs": [
    {
     "data": {
      "text/plain": [
       "\n",
       "Call:\n",
       "arima(x = y, order = c(1, 0, 0))\n",
       "\n",
       "Coefficients:\n",
       "         ar1  intercept\n",
       "      0.7458     0.0981\n",
       "s.e.  0.0298     0.1748\n",
       "\n",
       "sigma^2 estimated as 0.9992:  log likelihood = -709.69,  aic = 1425.37"
      ]
     },
     "metadata": {},
     "output_type": "display_data"
    },
    {
     "data": {
      "image/png": "[encoded data removed]",
      "text/plain": [
       "plot without title"
      ]
     },
     "metadata": {},
     "output_type": "display_data"
    }
   ],
   "source": [
    "set.seed(69420)                                                        # first set seed for replicability\n",
    "n <- 500                                                               # number of observations\n",
    "e <- rnorm(n)                                                          # error terms\n",
    "y <- vector()                                                          # blank vector to store values of explained variable\n",
    "phi_1 <- 0.75                                                          # set value of parameter\n",
    "\n",
    "y[1] <- 0                                                              # set value of explained variable in first period\n",
    "\n",
    "for (i in 2:n){\n",
    "    y[i] <- phi_1 * y[i-1] + e[i]                                      # create the rest of eplained variable\n",
    "}\n",
    "\n",
    "plot.ts(y, ylab = NA)                                                  # graphical visualization\n",
    "\n",
    "ARmodel = arima(y, order = c(1,0,0))                                   # estimate the process\n",
    "ARmodel  "
   ]
  },
  {
   "cell_type": "markdown",
   "id": "52a1be5b",
   "metadata": {},
   "source": [
    "From the estimation, it can be seen that value of intercept is statistically insignificant. That is good, as no intercept was involved in the creation of explained variable. However, value of the parameter is estimated quite precisely and highly statistically significant."
   ]
  },
  {
   "cell_type": "markdown",
   "id": "12c82f74",
   "metadata": {},
   "source": [
    "### ARMA(1,1) process"
   ]
  },
  {
   "cell_type": "code",
   "execution_count": 7,
   "id": "188e3d7b",
   "metadata": {},
   "outputs": [
    {
     "data": {
      "text/plain": [
       "\n",
       "Call:\n",
       "arima(x = y, order = c(1, 0, 1))\n",
       "\n",
       "Coefficients:\n",
       "         ar1     ma1  intercept\n",
       "      0.7489  0.8944     0.1787\n",
       "s.e.  0.0302  0.0228     0.3337\n",
       "\n",
       "sigma^2 estimated as 0.9914:  log likelihood = -709.05,  aic = 1426.09"
      ]
     },
     "metadata": {},
     "output_type": "display_data"
    },
    {
     "data": {
      "image/png": "[encoded data removed]",
      "text/plain": [
       "plot without title"
      ]
     },
     "metadata": {},
     "output_type": "display_data"
    }
   ],
   "source": [
    "set.seed(69420)\n",
    "n <- 500 # number of observations\n",
    "e <- rnorm(n) # \n",
    "y <- vector() # empty vector for the explained variable\n",
    "phi_1 <- 0.75 # set value of AR parameter\n",
    "theta_1 <- 0.9 # set value of MA parameter\n",
    "\n",
    "y[1] <- 0\n",
    "\n",
    "for (i in 2:n){\n",
    "    y[i] <- phi_1 * y[i - 1] + theta_1 * e[i - 1] + e[i]\n",
    "}\n",
    "\n",
    "\n",
    "options(repr.plot.width = 10, repr.plot.height = 4)\n",
    "plot.ts(y, ylab = NA)\n",
    "\n",
    "ARmodel = arima(y, order = c(1,0,1))                                   # estimate the process\n",
    "ARmodel  "
   ]
  },
  {
   "cell_type": "markdown",
   "id": "1c728e7b",
   "metadata": {},
   "source": [
    "Again, estimation is quite precise. Estimated values of coefficients are statistically significant and close to their real value and estimated value of intercept is statistically insignificant."
   ]
  },
  {
   "cell_type": "markdown",
   "id": "0c8c5424",
   "metadata": {},
   "source": [
    "## 1) b) Choose one real time series and estimate the best linear model (AR, MA, ARMA, ARMIA) that fits the time series.\n",
    "\n",
    "I choose data for number of daily female births in California in 1959. It can be seen below that these data contain 365 observations. I will start by plotting the data to gain some idea about their structure."
   ]
  },
  {
   "cell_type": "code",
   "execution_count": 21,
   "id": "077fddb7",
   "metadata": {},
   "outputs": [
    {
     "name": "stdout",
     "output_type": "stream",
     "text": [
      "Observations: 365\n",
      "Variables: 2\n",
      "$ Date   <fct> 1959-01-01, 1959-01-02, 1959-01-03, 1959-01-04, 1959-01-05, ...\n",
      "$ Births <int> 35, 32, 30, 31, 44, 29, 45, 43, 38, 27, 38, 33, 55, 47, 45, ...\n"
     ]
    },
    {
     "data": {
      "image/png": "[encoded data removed]",
      "text/plain": [
       "plot without title"
      ]
     },
     "metadata": {},
     "output_type": "display_data"
    }
   ],
   "source": [
    "data <- read.csv(\"https://raw.githubusercontent.com/jbrownlee/Datasets/master/daily-total-female-births.csv\")\n",
    "data %>% glimpse\n",
    "\n",
    "plot.ts(data$Births, ylab = NA)  # graphical representation of the data"
   ]
  },
  {
   "cell_type": "markdown",
   "id": "f84f8f96",
   "metadata": {},
   "source": [
    "### Identification"
   ]
  },
  {
   "cell_type": "code",
   "execution_count": 19,
   "id": "af645fcd",
   "metadata": {},
   "outputs": [
    {
     "name": "stderr",
     "output_type": "stream",
     "text": [
      "Warning message in adf.test(data$Births):\n",
      "\"p-value smaller than printed p-value\""
     ]
    },
    {
     "data": {
      "text/plain": [
       "\n",
       "\tAugmented Dickey-Fuller Test\n",
       "\n",
       "data:  data$Births\n",
       "Dickey-Fuller = -5.1042, Lag order = 7, p-value = 0.01\n",
       "alternative hypothesis: stationary\n"
      ]
     },
     "metadata": {},
     "output_type": "display_data"
    }
   ],
   "source": [
    "adf.test(data$Births)"
   ]
  },
  {
   "cell_type": "markdown",
   "id": "a607a77f",
   "metadata": {},
   "source": [
    "According to result of the test, I have enough evidence to consider the data as stationary. Now I will plot acf and pacf to help me with estimation of the model."
   ]
  },
  {
   "cell_type": "code",
   "execution_count": 27,
   "id": "53c4cfa6",
   "metadata": {},
   "outputs": [
    {
     "data": {
      "image/png": "[encoded data removed]",
      "text/plain": [
       "Plot with title \"Series  data$Births\""
      ]
     },
     "metadata": {},
     "output_type": "display_data"
    },
    {
     "data": {
      "image/png": "[encoded data removed]",
      "text/plain": [
       "Plot with title \"Series  data$Births\""
      ]
     },
     "metadata": {},
     "output_type": "display_data"
    }
   ],
   "source": [
    "acf(data$Births)\n",
    "pacf(data$Births)"
   ]
  },
  {
   "cell_type": "code",
   "execution_count": 40,
   "id": "1f6c4c56",
   "metadata": {},
   "outputs": [
    {
     "name": "stdout",
     "output_type": "stream",
     "text": [
      "Series: data$Births \n",
      "ARIMA(1,0,0) with non-zero mean \n",
      "\n",
      "Coefficients:\n",
      "         ar1     mean\n",
      "      0.2179  41.9816\n",
      "s.e.  0.0511   0.4789\n",
      "\n",
      "sigma^2 estimated as 51.58:  log likelihood=-1236.54\n",
      "AIC=2479.08   AICc=2479.15   BIC=2490.78\n",
      "\n",
      "Training set error measures:\n",
      "                      ME     RMSE      MAE       MPE    MAPE      MASE\n",
      "Training set 0.004626871 7.161908 5.602757 -2.954357 13.8462 0.7704585\n",
      "                    ACF1\n",
      "Training set -0.02442495\n"
     ]
    },
    {
     "data": {
      "text/html": [
       "2479.08061379595"
      ],
      "text/latex": [
       "2479.08061379595"
      ],
      "text/markdown": [
       "2479.08061379595"
      ],
      "text/plain": [
       "[1] 2479.081"
      ]
     },
     "metadata": {},
     "output_type": "display_data"
    }
   ],
   "source": [
    "model100 <- Arima(data$Births, order = c(1, 0, 0))\n",
    "summary(model100)\n",
    "model100$aic\n",
    "\n",
    "model200 <- Arima(data$Births, order = c(2, 0, 0))\n",
    "summary(model200)\n",
    "\n",
    "model300 <- Arima(data$Births, order = c(3, 0, 0))\n",
    "summary(model300)\n",
    "\n",
    "model001 <- Arima(data$Births, order = c(0, 0, 1))\n",
    "summary(model001)\n",
    "\n",
    "model002 <- Arima(data$Births, order = c(0, 0, 2))\n",
    "summary(model002)"
   ]
  },
  {
   "cell_type": "code",
   "execution_count": 41,
   "id": "65354a13",
   "metadata": {},
   "outputs": [
    {
     "name": "stdout",
     "output_type": "stream",
     "text": [
      "Series: data$Births \n",
      "ARIMA(1,1,1) \n",
      "\n",
      "Coefficients:\n",
      "         ar1      ma1\n",
      "      0.1252  -0.9625\n",
      "s.e.  0.0548   0.0163\n",
      "\n",
      "sigma^2 estimated as 49.42:  log likelihood=-1226.54\n",
      "AIC=2459.07   AICc=2459.14   BIC=2470.77\n",
      "\n",
      "Training set error measures:\n",
      "                    ME     RMSE      MAE       MPE     MAPE      MASE\n",
      "Training set 0.4242962 7.000945 5.493345 -1.662857 13.33864 0.7554128\n",
      "                    ACF1\n",
      "Training set -0.01044628\n"
     ]
    }
   ],
   "source": [
    "model_auto <- auto.arima(data$Births, approximation = FALSE, stepwise = FALSE)\n",
    "summary(model_auto)"
   ]
  },
  {
   "cell_type": "code",
   "execution_count": 42,
   "id": "e8d80cd3",
   "metadata": {},
   "outputs": [
    {
     "data": {
      "image/png": "[encoded data removed]",
      "text/plain": [
       "Plot with title \"NA\""
      ]
     },
     "metadata": {},
     "output_type": "display_data"
    }
   ],
   "source": [
    "par(mfrow = c(1, 2))\n",
    "acf(model_auto$residuals, main = NA)\n",
    "pacf(model_auto$residuals, main = NA)"
   ]
  },
  {
   "cell_type": "code",
   "execution_count": 39,
   "id": "687a705b",
   "metadata": {},
   "outputs": [],
   "source": [
    "?Arima"
   ]
  }
 ],
 "metadata": {
  "kernelspec": {
   "display_name": "R",
   "language": "R",
   "name": "ir"
  },
  "language_info": {
   "codemirror_mode": "r",
   "file_extension": ".r",
   "mimetype": "text/x-r-source",
   "name": "R",
   "pygments_lexer": "r",
   "version": "3.6.1"
  }
 },
 "nbformat": 4,
 "nbformat_minor": 5
}
