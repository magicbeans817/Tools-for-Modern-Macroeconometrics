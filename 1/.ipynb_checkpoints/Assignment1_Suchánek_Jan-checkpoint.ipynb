{
 "cells": [
  {
   "cell_type": "markdown",
   "id": "43f51fbf",
   "metadata": {},
   "source": [
    "# Jan Suchánek\n",
    "## 1)  a) Generate an AR(1) and ARMA(1,1) process. Do not use predefined functions. Estimate both the processes"
   ]
  },
  {
   "cell_type": "code",
   "execution_count": 4,
   "id": "b48ad235",
   "metadata": {},
   "outputs": [
    {
     "name": "stderr",
     "output_type": "stream",
     "text": [
      "Loading required package: uroot\n",
      "Warning message:\n",
      "\"package 'uroot' was built under R version 3.6.3\""
     ]
    }
   ],
   "source": [
    "if (!require(forecast)) install.packages(\"forecast\")\n",
    "if (!require(uroot)) install.packages(\"uroot\")\n",
    "library(stats)\n",
    "library(repr) \n",
    "library(tseries)\n",
    "library(readr)\n",
    "library(forecast)\n",
    "library(uroot)\n",
    "\n",
    "options(repr.plot.width = 10, repr.plot.height = 4)"
   ]
  },
  {
   "cell_type": "markdown",
   "id": "8a912899",
   "metadata": {},
   "source": [
    "### AR(1) process"
   ]
  },
  {
   "cell_type": "code",
   "execution_count": 10,
   "id": "7f09bcb6",
   "metadata": {
    "scrolled": true
   },
   "outputs": [
    {
     "data": {
      "text/plain": [
       "\n",
       "Call:\n",
       "arima(x = y, order = c(1, 0, 0))\n",
       "\n",
       "Coefficients:\n",
       "         ar1  intercept\n",
       "      0.7458     0.0981\n",
       "s.e.  0.0298     0.1748\n",
       "\n",
       "sigma^2 estimated as 0.9992:  log likelihood = -709.69,  aic = 1425.37"
      ]
     },
     "metadata": {},
     "output_type": "display_data"
    },
    {
     "data": {
      "image/png": "[encoded data removed]",
      "text/plain": [
       "plot without title"
      ]
     },
     "metadata": {},
     "output_type": "display_data"
    }
   ],
   "source": [
    "set.seed(69420)                                                        # first set seed for replicability\n",
    "n <- 500                                                               # number of observations\n",
    "e <- rnorm(n)                                                          # error terms\n",
    "y <- vector()                                                          # blank vector to store values of explained variable\n",
    "phi_1 <- 0.75                                                          # set value of parameter\n",
    "\n",
    "y[1] <- 0                                                              # set value of explained variable in first period\n",
    "\n",
    "for (i in 2:n){\n",
    "    y[i] <- phi_1 * y[i-1] + e[i]                                      # create the rest of eplained variable\n",
    "}\n",
    "\n",
    "plot.ts(y, ylab = NA)                                                  # graphical visualization\n",
    "\n",
    "ARmodel = arima(y, order = c(1,0,0))                                   # estimate the process\n",
    "ARmodel  "
   ]
  },
  {
   "cell_type": "markdown",
   "id": "52a1be5b",
   "metadata": {},
   "source": [
    "From the estimation, it can be seen that value of intercept is statistically insignificant. That is good, as no intercept was involved in the creation of explained variable. However, value of the parameter is estimated quite precisely and highly statistically significant."
   ]
  },
  {
   "cell_type": "markdown",
   "id": "12c82f74",
   "metadata": {},
   "source": [
    "### ARMA(1,1) process"
   ]
  },
  {
   "cell_type": "code",
   "execution_count": 7,
   "id": "188e3d7b",
   "metadata": {},
   "outputs": [
    {
     "data": {
      "text/plain": [
       "\n",
       "Call:\n",
       "arima(x = y, order = c(1, 0, 1))\n",
       "\n",
       "Coefficients:\n",
       "         ar1     ma1  intercept\n",
       "      0.7489  0.8944     0.1787\n",
       "s.e.  0.0302  0.0228     0.3337\n",
       "\n",
       "sigma^2 estimated as 0.9914:  log likelihood = -709.05,  aic = 1426.09"
      ]
     },
     "metadata": {},
     "output_type": "display_data"
    },
    {
     "data": {
      "image/png": "[encoded data removed]",
      "text/plain": [
       "plot without title"
      ]
     },
     "metadata": {},
     "output_type": "display_data"
    }
   ],
   "source": [
    "set.seed(69420)\n",
    "n <- 500 # number of observations\n",
    "e <- rnorm(n) # \n",
    "y <- vector() # empty vector for the explained variable\n",
    "phi_1 <- 0.75 # set value of AR parameter\n",
    "theta_1 <- 0.9 # set value of MA parameter\n",
    "\n",
    "y[1] <- 0\n",
    "\n",
    "for (i in 2:n){\n",
    "    y[i] <- phi_1 * y[i - 1] + theta_1 * e[i - 1] + e[i]\n",
    "}\n",
    "\n",
    "\n",
    "options(repr.plot.width = 10, repr.plot.height = 4)\n",
    "plot.ts(y, ylab = NA)\n",
    "\n",
    "ARmodel = arima(y, order = c(1,0,1))                                   # estimate the process\n",
    "ARmodel  "
   ]
  },
  {
   "cell_type": "markdown",
   "id": "fc358577",
   "metadata": {},
   "source": [
    "Again, estimation is quite precise. Estimated values of coefficients are statistically significant and close to their real value and estimated value of intercept is statistically insignificant."
   ]
  },
  {
   "cell_type": "code",
   "execution_count": null,
   "id": "a577005b",
   "metadata": {},
   "outputs": [],
   "source": []
  }
 ],
 "metadata": {
  "kernelspec": {
   "display_name": "R",
   "language": "R",
   "name": "ir"
  },
  "language_info": {
   "codemirror_mode": "r",
   "file_extension": ".r",
   "mimetype": "text/x-r-source",
   "name": "R",
   "pygments_lexer": "r",
   "version": "3.6.1"
  }
 },
 "nbformat": 4,
 "nbformat_minor": 5
}
